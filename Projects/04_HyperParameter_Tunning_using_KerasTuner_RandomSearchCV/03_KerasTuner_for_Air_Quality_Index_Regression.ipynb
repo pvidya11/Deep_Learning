{
  "nbformat": 4,
  "nbformat_minor": 0,
  "metadata": {
    "colab": {
      "name": "Real_Combine_using_Keras-Tuner",
      "provenance": [],
      "collapsed_sections": [],
      "authorship_tag": "ABX9TyOlY72E6SUBqWm3nW3dj3o9",
      "include_colab_link": true
    },
    "kernelspec": {
      "name": "python3",
      "display_name": "Python 3"
    },
    "language_info": {
      "name": "python"
    }
  },
  "cells": [
    {
      "cell_type": "markdown",
      "metadata": {
        "id": "view-in-github",
        "colab_type": "text"
      },
      "source": [
        "<a href=\"https://colab.research.google.com/github/pvidya11/Deep_Learning/blob/main/Projects/03_KerasTuner_For_Hyperparameter_Tunning/03_KerasTuner_for_Air_Quality_Index_Regression.ipynb\" target=\"_parent\"><img src=\"https://colab.research.google.com/assets/colab-badge.svg\" alt=\"Open In Colab\"/></a>"
      ]
    },
    {
      "cell_type": "markdown",
      "metadata": {
        "id": "olEhuOHdQzqj"
      },
      "source": [
        "<h1><b>Keras-Tuner : HyperParameter Tunning for Regression Problem</b></h1>\n",
        "<h2><b>Regression Analysis For Air Quality Index </b></h2>"
      ]
    },
    {
      "cell_type": "code",
      "metadata": {
        "colab": {
          "base_uri": "https://localhost:8080/"
        },
        "id": "LtN-i04z9yWp",
        "outputId": "6f7f7d15-5dd0-45f0-9c55-58dd03633f79"
      },
      "source": [
        "#!pip install -q -U keras-tuner"
      ],
      "execution_count": 2,
      "outputs": [
        {
          "output_type": "stream",
          "text": [
            "\u001b[?25l\r\u001b[K     |█████▏                          | 10kB 16.9MB/s eta 0:00:01\r\u001b[K     |██████████▍                     | 20kB 19.4MB/s eta 0:00:01\r\u001b[K     |███████████████▋                | 30kB 23.6MB/s eta 0:00:01\r\u001b[K     |████████████████████▉           | 40kB 21.6MB/s eta 0:00:01\r\u001b[K     |██████████████████████████      | 51kB 24.2MB/s eta 0:00:01\r\u001b[K     |███████████████████████████████▎| 61kB 18.8MB/s eta 0:00:01\r\u001b[K     |████████████████████████████████| 71kB 6.8MB/s \n",
            "\u001b[?25h  Building wheel for keras-tuner (setup.py) ... \u001b[?25l\u001b[?25hdone\n",
            "  Building wheel for terminaltables (setup.py) ... \u001b[?25l\u001b[?25hdone\n"
          ],
          "name": "stdout"
        }
      ]
    },
    {
      "cell_type": "markdown",
      "metadata": {
        "id": "bjJCZRuBJ1rM"
      },
      "source": [
        "**Keras Tuner--> it decides number of Hidden Layers and neuron in Neural Network**\n"
      ]
    },
    {
      "cell_type": "markdown",
      "metadata": {
        "id": "WuAMOTlUk2aM"
      },
      "source": [
        "<h1><b>Step 1 Load Libraries</b></h1>\n"
      ]
    },
    {
      "cell_type": "code",
      "metadata": {
        "id": "V7HQxulO2LAS"
      },
      "source": [
        "import pandas as pd\n",
        "import numpy as np\n",
        "import tensorflow as tf\n",
        "from tensorflow import keras\n",
        "from tensorflow.keras import layers\n",
        "import kerastuner as kt\n",
        "from kerastuner.tuners import RandomSearch"
      ],
      "execution_count": 23,
      "outputs": []
    },
    {
      "cell_type": "markdown",
      "metadata": {
        "id": "9Nfp8J8ulNdg"
      },
      "source": [
        "<h1><b>Step 2 Load data</b></h1>"
      ]
    },
    {
      "cell_type": "code",
      "metadata": {
        "id": "Ms8JEuOu6r03"
      },
      "source": [
        "df = pd.read_csv('https://raw.githubusercontent.com/krishnaik06/Keras-Tuner/main/Real_Combine.csv')\n",
        "df = df[df[\"PM 2.5\"].isnull()!=True]"
      ],
      "execution_count": 36,
      "outputs": []
    },
    {
      "cell_type": "code",
      "metadata": {
        "colab": {
          "base_uri": "https://localhost:8080/",
          "height": 204
        },
        "id": "kyJ_3KXj_L4Y",
        "outputId": "656a676b-7bb5-49c5-a8e1-ddb903ee21d5"
      },
      "source": [
        "df.head()"
      ],
      "execution_count": 37,
      "outputs": [
        {
          "output_type": "execute_result",
          "data": {
            "text/html": [
              "<div>\n",
              "<style scoped>\n",
              "    .dataframe tbody tr th:only-of-type {\n",
              "        vertical-align: middle;\n",
              "    }\n",
              "\n",
              "    .dataframe tbody tr th {\n",
              "        vertical-align: top;\n",
              "    }\n",
              "\n",
              "    .dataframe thead th {\n",
              "        text-align: right;\n",
              "    }\n",
              "</style>\n",
              "<table border=\"1\" class=\"dataframe\">\n",
              "  <thead>\n",
              "    <tr style=\"text-align: right;\">\n",
              "      <th></th>\n",
              "      <th>T</th>\n",
              "      <th>TM</th>\n",
              "      <th>Tm</th>\n",
              "      <th>SLP</th>\n",
              "      <th>H</th>\n",
              "      <th>VV</th>\n",
              "      <th>V</th>\n",
              "      <th>VM</th>\n",
              "      <th>PM 2.5</th>\n",
              "    </tr>\n",
              "  </thead>\n",
              "  <tbody>\n",
              "    <tr>\n",
              "      <th>0</th>\n",
              "      <td>7.4</td>\n",
              "      <td>9.8</td>\n",
              "      <td>4.8</td>\n",
              "      <td>1017.6</td>\n",
              "      <td>93.0</td>\n",
              "      <td>0.5</td>\n",
              "      <td>4.3</td>\n",
              "      <td>9.4</td>\n",
              "      <td>219.720833</td>\n",
              "    </tr>\n",
              "    <tr>\n",
              "      <th>1</th>\n",
              "      <td>7.8</td>\n",
              "      <td>12.7</td>\n",
              "      <td>4.4</td>\n",
              "      <td>1018.5</td>\n",
              "      <td>87.0</td>\n",
              "      <td>0.6</td>\n",
              "      <td>4.4</td>\n",
              "      <td>11.1</td>\n",
              "      <td>182.187500</td>\n",
              "    </tr>\n",
              "    <tr>\n",
              "      <th>2</th>\n",
              "      <td>6.7</td>\n",
              "      <td>13.4</td>\n",
              "      <td>2.4</td>\n",
              "      <td>1019.4</td>\n",
              "      <td>82.0</td>\n",
              "      <td>0.6</td>\n",
              "      <td>4.8</td>\n",
              "      <td>11.1</td>\n",
              "      <td>154.037500</td>\n",
              "    </tr>\n",
              "    <tr>\n",
              "      <th>3</th>\n",
              "      <td>8.6</td>\n",
              "      <td>15.5</td>\n",
              "      <td>3.3</td>\n",
              "      <td>1018.7</td>\n",
              "      <td>72.0</td>\n",
              "      <td>0.8</td>\n",
              "      <td>8.1</td>\n",
              "      <td>20.6</td>\n",
              "      <td>223.208333</td>\n",
              "    </tr>\n",
              "    <tr>\n",
              "      <th>4</th>\n",
              "      <td>12.4</td>\n",
              "      <td>20.9</td>\n",
              "      <td>4.4</td>\n",
              "      <td>1017.3</td>\n",
              "      <td>61.0</td>\n",
              "      <td>1.3</td>\n",
              "      <td>8.7</td>\n",
              "      <td>22.2</td>\n",
              "      <td>200.645833</td>\n",
              "    </tr>\n",
              "  </tbody>\n",
              "</table>\n",
              "</div>"
            ],
            "text/plain": [
              "      T    TM   Tm     SLP     H   VV    V    VM      PM 2.5\n",
              "0   7.4   9.8  4.8  1017.6  93.0  0.5  4.3   9.4  219.720833\n",
              "1   7.8  12.7  4.4  1018.5  87.0  0.6  4.4  11.1  182.187500\n",
              "2   6.7  13.4  2.4  1019.4  82.0  0.6  4.8  11.1  154.037500\n",
              "3   8.6  15.5  3.3  1018.7  72.0  0.8  8.1  20.6  223.208333\n",
              "4  12.4  20.9  4.4  1017.3  61.0  1.3  8.7  22.2  200.645833"
            ]
          },
          "metadata": {
            "tags": []
          },
          "execution_count": 37
        }
      ]
    },
    {
      "cell_type": "markdown",
      "metadata": {
        "id": "vK9N2oXhlcii"
      },
      "source": [
        "<b>Seprate Features and Target from data</b>"
      ]
    },
    {
      "cell_type": "code",
      "metadata": {
        "id": "YBN5fq7QB4oT"
      },
      "source": [
        "Features = df.iloc[:, :8]  # OR df.iloc[:, :-1]    # Independent features\n",
        "\n",
        "Target = df.iloc[:,-1]                             # Dependent features\n",
        "#Target.head()"
      ],
      "execution_count": 38,
      "outputs": []
    },
    {
      "cell_type": "code",
      "metadata": {
        "colab": {
          "base_uri": "https://localhost:8080/",
          "height": 204
        },
        "id": "sNa89Qeqkr0y",
        "outputId": "f9f102f5-155a-4319-ee91-67df7d3aff6f"
      },
      "source": [
        "Features.head()"
      ],
      "execution_count": 39,
      "outputs": [
        {
          "output_type": "execute_result",
          "data": {
            "text/html": [
              "<div>\n",
              "<style scoped>\n",
              "    .dataframe tbody tr th:only-of-type {\n",
              "        vertical-align: middle;\n",
              "    }\n",
              "\n",
              "    .dataframe tbody tr th {\n",
              "        vertical-align: top;\n",
              "    }\n",
              "\n",
              "    .dataframe thead th {\n",
              "        text-align: right;\n",
              "    }\n",
              "</style>\n",
              "<table border=\"1\" class=\"dataframe\">\n",
              "  <thead>\n",
              "    <tr style=\"text-align: right;\">\n",
              "      <th></th>\n",
              "      <th>T</th>\n",
              "      <th>TM</th>\n",
              "      <th>Tm</th>\n",
              "      <th>SLP</th>\n",
              "      <th>H</th>\n",
              "      <th>VV</th>\n",
              "      <th>V</th>\n",
              "      <th>VM</th>\n",
              "    </tr>\n",
              "  </thead>\n",
              "  <tbody>\n",
              "    <tr>\n",
              "      <th>0</th>\n",
              "      <td>7.4</td>\n",
              "      <td>9.8</td>\n",
              "      <td>4.8</td>\n",
              "      <td>1017.6</td>\n",
              "      <td>93.0</td>\n",
              "      <td>0.5</td>\n",
              "      <td>4.3</td>\n",
              "      <td>9.4</td>\n",
              "    </tr>\n",
              "    <tr>\n",
              "      <th>1</th>\n",
              "      <td>7.8</td>\n",
              "      <td>12.7</td>\n",
              "      <td>4.4</td>\n",
              "      <td>1018.5</td>\n",
              "      <td>87.0</td>\n",
              "      <td>0.6</td>\n",
              "      <td>4.4</td>\n",
              "      <td>11.1</td>\n",
              "    </tr>\n",
              "    <tr>\n",
              "      <th>2</th>\n",
              "      <td>6.7</td>\n",
              "      <td>13.4</td>\n",
              "      <td>2.4</td>\n",
              "      <td>1019.4</td>\n",
              "      <td>82.0</td>\n",
              "      <td>0.6</td>\n",
              "      <td>4.8</td>\n",
              "      <td>11.1</td>\n",
              "    </tr>\n",
              "    <tr>\n",
              "      <th>3</th>\n",
              "      <td>8.6</td>\n",
              "      <td>15.5</td>\n",
              "      <td>3.3</td>\n",
              "      <td>1018.7</td>\n",
              "      <td>72.0</td>\n",
              "      <td>0.8</td>\n",
              "      <td>8.1</td>\n",
              "      <td>20.6</td>\n",
              "    </tr>\n",
              "    <tr>\n",
              "      <th>4</th>\n",
              "      <td>12.4</td>\n",
              "      <td>20.9</td>\n",
              "      <td>4.4</td>\n",
              "      <td>1017.3</td>\n",
              "      <td>61.0</td>\n",
              "      <td>1.3</td>\n",
              "      <td>8.7</td>\n",
              "      <td>22.2</td>\n",
              "    </tr>\n",
              "  </tbody>\n",
              "</table>\n",
              "</div>"
            ],
            "text/plain": [
              "      T    TM   Tm     SLP     H   VV    V    VM\n",
              "0   7.4   9.8  4.8  1017.6  93.0  0.5  4.3   9.4\n",
              "1   7.8  12.7  4.4  1018.5  87.0  0.6  4.4  11.1\n",
              "2   6.7  13.4  2.4  1019.4  82.0  0.6  4.8  11.1\n",
              "3   8.6  15.5  3.3  1018.7  72.0  0.8  8.1  20.6\n",
              "4  12.4  20.9  4.4  1017.3  61.0  1.3  8.7  22.2"
            ]
          },
          "metadata": {
            "tags": []
          },
          "execution_count": 39
        }
      ]
    },
    {
      "cell_type": "code",
      "metadata": {
        "colab": {
          "base_uri": "https://localhost:8080/"
        },
        "id": "p9djDHWNkv9k",
        "outputId": "3c2ac595-b2c1-45bf-d455-cf227fea7068"
      },
      "source": [
        "Target.head()"
      ],
      "execution_count": 40,
      "outputs": [
        {
          "output_type": "execute_result",
          "data": {
            "text/plain": [
              "0    219.720833\n",
              "1    182.187500\n",
              "2    154.037500\n",
              "3    223.208333\n",
              "4    200.645833\n",
              "Name: PM 2.5, dtype: float64"
            ]
          },
          "metadata": {
            "tags": []
          },
          "execution_count": 40
        }
      ]
    },
    {
      "cell_type": "markdown",
      "metadata": {
        "id": "ZnfKkvoLlqgg"
      },
      "source": [
        "<h1><b>Step 3 keras tuner : hyper parameter tunning</b></h1>"
      ]
    },
    {
      "cell_type": "markdown",
      "metadata": {
        "id": "vX7qizlNF6PV"
      },
      "source": [
        "**Hyperparameters**\n",
        "1. How many number of hidden layers we should have?\n",
        "2. How many number of neurons we should have in hidden layer?\n",
        "3. what should be the Learning Rate"
      ]
    },
    {
      "cell_type": "code",
      "metadata": {
        "id": "6jGWHzhZDLQR"
      },
      "source": [
        "def build_model(hp):\n",
        "    model = keras.Sequential()\n",
        "    for i in range(hp.Int('num_layers', 2, 20)):\n",
        "        model.add(layers.Dense(units=hp.Int('units_' +str(i), min_value=32, max_value=512, step=32), activation='relu',kernel_initializer='he_uniform'))\n",
        "    model.add(layers.Dense(units=1, activation='linear'))\n",
        "    model.compile(optimizer=keras.optimizers.Adam( hp.Choice('learning_rate', [1e-2, 1e-3, 1e-4])),\n",
        "                  loss='mean_absolute_error',metrics=['mean_absolute_error'])\n",
        "    return model    "
      ],
      "execution_count": 41,
      "outputs": []
    },
    {
      "cell_type": "markdown",
      "metadata": {
        "id": "p5nvj5kFmMdf"
      },
      "source": [
        "<h2><b>Randomsearch algorithm is used to find best hyperparameters</b></h2>"
      ]
    },
    {
      "cell_type": "code",
      "metadata": {
        "id": "1YWV2_eAQUnH"
      },
      "source": [
        "tuner = RandomSearch(\n",
        "                      build_model,\n",
        "                      objective='val_mean_absolute_error',\n",
        "                      max_trials=5,\n",
        "                      executions_per_trial=3,\n",
        "                      directory='project_2',\n",
        "                      project_name='Air Quality Index')"
      ],
      "execution_count": 53,
      "outputs": []
    },
    {
      "cell_type": "code",
      "metadata": {
        "colab": {
          "base_uri": "https://localhost:8080/"
        },
        "id": "qdW5PBlKZYFd",
        "outputId": "a5888580-9f18-41f7-93b0-27f12030938f"
      },
      "source": [
        "tuner.search_space_summary()"
      ],
      "execution_count": 54,
      "outputs": [
        {
          "output_type": "stream",
          "text": [
            "Search space summary\n",
            "Default search space size: 4\n",
            "num_layers (Int)\n",
            "{'default': None, 'conditions': [], 'min_value': 2, 'max_value': 20, 'step': 1, 'sampling': None}\n",
            "units_0 (Int)\n",
            "{'default': None, 'conditions': [], 'min_value': 32, 'max_value': 512, 'step': 32, 'sampling': None}\n",
            "units_1 (Int)\n",
            "{'default': None, 'conditions': [], 'min_value': 32, 'max_value': 512, 'step': 32, 'sampling': None}\n",
            "learning_rate (Choice)\n",
            "{'default': 0.01, 'conditions': [], 'values': [0.01, 0.001, 0.0001], 'ordered': True}\n"
          ],
          "name": "stdout"
        }
      ]
    },
    {
      "cell_type": "markdown",
      "metadata": {
        "id": "T8FaMQ3_oIvh"
      },
      "source": [
        "<h1><b>Step 4 prepare train test data</b></h1>"
      ]
    },
    {
      "cell_type": "code",
      "metadata": {
        "id": "iDMDWuqaavLH"
      },
      "source": [
        "from sklearn.model_selection import train_test_split\n",
        "x_train, x_test, y_train, y_test = train_test_split(Features, Target, test_size=0.2, random_state=0)"
      ],
      "execution_count": 111,
      "outputs": []
    },
    {
      "cell_type": "code",
      "metadata": {
        "colab": {
          "base_uri": "https://localhost:8080/"
        },
        "id": "dum_hNpzp7fq",
        "outputId": "4923619d-c7a9-497c-dcb1-4ec645d5fea0"
      },
      "source": [
        "tuner.search(x_train, y_train, epochs=100, validation_data=(x_test, y_test))"
      ],
      "execution_count": 56,
      "outputs": [
        {
          "output_type": "stream",
          "text": [
            "Trial 5 Complete [00h 01m 37s]\n",
            "val_mean_absolute_error: 47.623130798339844\n",
            "\n",
            "Best val_mean_absolute_error So Far: 44.68807729085287\n",
            "Total elapsed time: 00h 07m 03s\n",
            "INFO:tensorflow:Oracle triggered exit\n"
          ],
          "name": "stdout"
        }
      ]
    },
    {
      "cell_type": "code",
      "metadata": {
        "id": "GLVxgr9uqgoB",
        "colab": {
          "base_uri": "https://localhost:8080/"
        },
        "outputId": "00de7617-5e1b-4a87-b4ed-80cb53ef0aaa"
      },
      "source": [
        "tuner.results_summary()"
      ],
      "execution_count": 57,
      "outputs": [
        {
          "output_type": "stream",
          "text": [
            "Results summary\n",
            "Results in project_2/Air Quality Index\n",
            "Showing 10 best trials\n",
            "Objective(name='val_mean_absolute_error', direction='min')\n",
            "Trial summary\n",
            "Hyperparameters:\n",
            "num_layers: 17\n",
            "units_0: 320\n",
            "units_1: 32\n",
            "learning_rate: 0.0001\n",
            "units_2: 384\n",
            "units_3: 256\n",
            "units_4: 256\n",
            "units_5: 384\n",
            "units_6: 320\n",
            "units_7: 416\n",
            "units_8: 320\n",
            "units_9: 32\n",
            "units_10: 32\n",
            "units_11: 32\n",
            "units_12: 32\n",
            "units_13: 32\n",
            "units_14: 32\n",
            "units_15: 32\n",
            "units_16: 32\n",
            "Score: 44.68807729085287\n",
            "Trial summary\n",
            "Hyperparameters:\n",
            "num_layers: 12\n",
            "units_0: 416\n",
            "units_1: 320\n",
            "learning_rate: 0.001\n",
            "units_2: 288\n",
            "units_3: 224\n",
            "units_4: 256\n",
            "units_5: 288\n",
            "units_6: 96\n",
            "units_7: 96\n",
            "units_8: 192\n",
            "units_9: 384\n",
            "units_10: 160\n",
            "units_11: 352\n",
            "units_12: 416\n",
            "units_13: 224\n",
            "units_14: 64\n",
            "units_15: 416\n",
            "units_16: 448\n",
            "Score: 45.64423370361328\n",
            "Trial summary\n",
            "Hyperparameters:\n",
            "num_layers: 9\n",
            "units_0: 224\n",
            "units_1: 448\n",
            "learning_rate: 0.001\n",
            "units_2: 32\n",
            "units_3: 32\n",
            "units_4: 32\n",
            "units_5: 32\n",
            "units_6: 32\n",
            "units_7: 32\n",
            "units_8: 32\n",
            "Score: 45.76860046386719\n",
            "Trial summary\n",
            "Hyperparameters:\n",
            "num_layers: 4\n",
            "units_0: 256\n",
            "units_1: 320\n",
            "learning_rate: 0.0001\n",
            "units_2: 96\n",
            "units_3: 288\n",
            "units_4: 256\n",
            "units_5: 288\n",
            "units_6: 128\n",
            "units_7: 448\n",
            "units_8: 160\n",
            "units_9: 96\n",
            "units_10: 288\n",
            "units_11: 64\n",
            "units_12: 224\n",
            "units_13: 192\n",
            "units_14: 384\n",
            "units_15: 384\n",
            "units_16: 128\n",
            "Score: 47.326087951660156\n",
            "Trial summary\n",
            "Hyperparameters:\n",
            "num_layers: 7\n",
            "units_0: 64\n",
            "units_1: 480\n",
            "learning_rate: 0.001\n",
            "units_2: 64\n",
            "units_3: 416\n",
            "units_4: 256\n",
            "units_5: 480\n",
            "units_6: 448\n",
            "units_7: 288\n",
            "units_8: 352\n",
            "units_9: 160\n",
            "units_10: 288\n",
            "units_11: 320\n",
            "units_12: 128\n",
            "units_13: 480\n",
            "units_14: 160\n",
            "units_15: 128\n",
            "units_16: 128\n",
            "Score: 47.623130798339844\n"
          ],
          "name": "stdout"
        }
      ]
    },
    {
      "cell_type": "code",
      "metadata": {
        "id": "bIZgMOwxonI1"
      },
      "source": [
        ""
      ],
      "execution_count": 57,
      "outputs": []
    },
    {
      "cell_type": "markdown",
      "metadata": {
        "id": "5ldsc18-05lU"
      },
      "source": [
        "<h1><b> prepare best model from above result</b></h1> "
      ]
    },
    {
      "cell_type": "code",
      "metadata": {
        "id": "dp5yh8e47DW0"
      },
      "source": [
        "from keras.layers import Dense"
      ],
      "execution_count": 66,
      "outputs": []
    },
    {
      "cell_type": "markdown",
      "metadata": {
        "id": "6TL3peOHBDpx"
      },
      "source": [
        ""
      ]
    },
    {
      "cell_type": "code",
      "metadata": {
        "id": "9DZoIs-G1Ij9"
      },
      "source": [
        "regressor = keras.Sequential()"
      ],
      "execution_count": 112,
      "outputs": []
    },
    {
      "cell_type": "code",
      "metadata": {
        "id": "yVPBpsG21hOy"
      },
      "source": [
        "regressor.add(Dense(units=64,activation=\"relu\",kernel_initializer=\"he_uniform\",input_dim=8))\n",
        "regressor.add(Dense(units=480,activation=\"relu\",kernel_initializer=\"he_uniform\"))\n",
        "regressor.add(Dense(units=64,activation=\"relu\",kernel_initializer=\"he_uniform\"))\n",
        "regressor.add(Dense(units=416,activation=\"relu\",kernel_initializer=\"he_uniform\"))\n",
        "regressor.add(Dense(units=256,activation=\"relu\",kernel_initializer=\"he_uniform\"))\n",
        "regressor.add(Dense(units=480,activation=\"relu\",kernel_initializer=\"he_uniform\"))\n",
        "regressor.add(Dense(units=448,activation=\"relu\",kernel_initializer=\"he_uniform\"))\n",
        "regressor.add(Dense(units=288,activation=\"relu\",kernel_initializer=\"he_uniform\"))\n",
        "regressor.add(Dense(units=352,activation=\"relu\",kernel_initializer=\"he_uniform\"))\n",
        "regressor.add(Dense(units=160,activation=\"relu\",kernel_initializer=\"he_uniform\"))\n",
        "regressor.add(Dense(units=288,activation=\"relu\",kernel_initializer=\"he_uniform\"))\n",
        "regressor.add(Dense(units=320,activation=\"relu\",kernel_initializer=\"he_uniform\"))\n",
        "regressor.add(Dense(units=128,activation=\"relu\",kernel_initializer=\"he_uniform\"))\n",
        "regressor.add(Dense(units=480,activation=\"relu\",kernel_initializer=\"he_uniform\"))\n",
        "regressor.add(Dense(units=160,activation=\"relu\",kernel_initializer=\"he_uniform\"))\n",
        "regressor.add(Dense(units=128,activation=\"relu\",kernel_initializer=\"he_uniform\"))\n",
        "regressor.add(Dense(units=128,activation=\"relu\",kernel_initializer=\"he_uniform\"))\n",
        "\n",
        "regressor.add(Dense(units=1,activation=\"linear\"))\n",
        "regressor.compile(optimizer=keras.optimizers.Adam(learning_rate=0.001),\n",
        "                  loss='mean_absolute_error',metrics=['mean_absolute_error'])\n"
      ],
      "execution_count": 113,
      "outputs": []
    },
    {
      "cell_type": "code",
      "metadata": {
        "id": "RLWUPk_w6-ET"
      },
      "source": [
        ""
      ],
      "execution_count": 113,
      "outputs": []
    },
    {
      "cell_type": "code",
      "metadata": {
        "id": "McCWjMZh8Ne2",
        "outputId": "1c79d3e2-b588-4f1b-fd6b-1cbf410ef92f",
        "colab": {
          "base_uri": "https://localhost:8080/"
        }
      },
      "source": [
        "regressor.summary()"
      ],
      "execution_count": 114,
      "outputs": [
        {
          "output_type": "stream",
          "text": [
            "Model: \"sequential_6\"\n",
            "_________________________________________________________________\n",
            "Layer (type)                 Output Shape              Param #   \n",
            "=================================================================\n",
            "dense_64 (Dense)             (None, 64)                576       \n",
            "_________________________________________________________________\n",
            "dense_65 (Dense)             (None, 480)               31200     \n",
            "_________________________________________________________________\n",
            "dense_66 (Dense)             (None, 64)                30784     \n",
            "_________________________________________________________________\n",
            "dense_67 (Dense)             (None, 416)               27040     \n",
            "_________________________________________________________________\n",
            "dense_68 (Dense)             (None, 256)               106752    \n",
            "_________________________________________________________________\n",
            "dense_69 (Dense)             (None, 480)               123360    \n",
            "_________________________________________________________________\n",
            "dense_70 (Dense)             (None, 448)               215488    \n",
            "_________________________________________________________________\n",
            "dense_71 (Dense)             (None, 288)               129312    \n",
            "_________________________________________________________________\n",
            "dense_72 (Dense)             (None, 352)               101728    \n",
            "_________________________________________________________________\n",
            "dense_73 (Dense)             (None, 160)               56480     \n",
            "_________________________________________________________________\n",
            "dense_74 (Dense)             (None, 288)               46368     \n",
            "_________________________________________________________________\n",
            "dense_75 (Dense)             (None, 320)               92480     \n",
            "_________________________________________________________________\n",
            "dense_76 (Dense)             (None, 128)               41088     \n",
            "_________________________________________________________________\n",
            "dense_77 (Dense)             (None, 480)               61920     \n",
            "_________________________________________________________________\n",
            "dense_78 (Dense)             (None, 160)               76960     \n",
            "_________________________________________________________________\n",
            "dense_79 (Dense)             (None, 128)               20608     \n",
            "_________________________________________________________________\n",
            "dense_80 (Dense)             (None, 128)               16512     \n",
            "_________________________________________________________________\n",
            "dense_81 (Dense)             (None, 1)                 129       \n",
            "=================================================================\n",
            "Total params: 1,178,785\n",
            "Trainable params: 1,178,785\n",
            "Non-trainable params: 0\n",
            "_________________________________________________________________\n"
          ],
          "name": "stdout"
        }
      ]
    },
    {
      "cell_type": "code",
      "metadata": {
        "id": "8HVvNDXC9_hJ",
        "outputId": "d869d414-71b2-418a-f027-31102157090a",
        "colab": {
          "base_uri": "https://localhost:8080/"
        }
      },
      "source": [
        "regressor_hist = regressor.fit(x_train,y_train,validation_split=0.2,epochs=20)"
      ],
      "execution_count": 115,
      "outputs": [
        {
          "output_type": "stream",
          "text": [
            "Epoch 1/20\n",
            "22/22 [==============================] - 1s 30ms/step - loss: 269.5526 - mean_absolute_error: 269.5526 - val_loss: 67.5616 - val_mean_absolute_error: 67.5616\n",
            "Epoch 2/20\n",
            "22/22 [==============================] - 0s 19ms/step - loss: 82.4940 - mean_absolute_error: 82.4940 - val_loss: 63.4326 - val_mean_absolute_error: 63.4326\n",
            "Epoch 3/20\n",
            "22/22 [==============================] - 0s 20ms/step - loss: 67.0971 - mean_absolute_error: 67.0971 - val_loss: 63.5472 - val_mean_absolute_error: 63.5472\n",
            "Epoch 4/20\n",
            "22/22 [==============================] - 0s 18ms/step - loss: 65.8107 - mean_absolute_error: 65.8107 - val_loss: 74.7935 - val_mean_absolute_error: 74.7935\n",
            "Epoch 5/20\n",
            "22/22 [==============================] - 0s 19ms/step - loss: 72.7912 - mean_absolute_error: 72.7912 - val_loss: 61.5427 - val_mean_absolute_error: 61.5427\n",
            "Epoch 6/20\n",
            "22/22 [==============================] - 0s 18ms/step - loss: 64.2268 - mean_absolute_error: 64.2268 - val_loss: 60.1435 - val_mean_absolute_error: 60.1435\n",
            "Epoch 7/20\n",
            "22/22 [==============================] - 0s 18ms/step - loss: 73.3116 - mean_absolute_error: 73.3116 - val_loss: 61.9191 - val_mean_absolute_error: 61.9191\n",
            "Epoch 8/20\n",
            "22/22 [==============================] - 0s 20ms/step - loss: 65.4058 - mean_absolute_error: 65.4058 - val_loss: 59.4044 - val_mean_absolute_error: 59.4044\n",
            "Epoch 9/20\n",
            "22/22 [==============================] - 0s 19ms/step - loss: 64.8211 - mean_absolute_error: 64.8211 - val_loss: 64.1585 - val_mean_absolute_error: 64.1585\n",
            "Epoch 10/20\n",
            "22/22 [==============================] - 0s 19ms/step - loss: 62.3664 - mean_absolute_error: 62.3664 - val_loss: 62.4403 - val_mean_absolute_error: 62.4403\n",
            "Epoch 11/20\n",
            "22/22 [==============================] - 0s 19ms/step - loss: 55.3839 - mean_absolute_error: 55.3839 - val_loss: 49.8553 - val_mean_absolute_error: 49.8553\n",
            "Epoch 12/20\n",
            "22/22 [==============================] - 0s 19ms/step - loss: 54.3333 - mean_absolute_error: 54.3333 - val_loss: 70.3137 - val_mean_absolute_error: 70.3137\n",
            "Epoch 13/20\n",
            "22/22 [==============================] - 0s 19ms/step - loss: 67.9904 - mean_absolute_error: 67.9904 - val_loss: 60.4158 - val_mean_absolute_error: 60.4158\n",
            "Epoch 14/20\n",
            "22/22 [==============================] - 0s 19ms/step - loss: 63.9161 - mean_absolute_error: 63.9161 - val_loss: 51.9680 - val_mean_absolute_error: 51.9680\n",
            "Epoch 15/20\n",
            "22/22 [==============================] - 0s 19ms/step - loss: 61.4323 - mean_absolute_error: 61.4323 - val_loss: 68.4810 - val_mean_absolute_error: 68.4810\n",
            "Epoch 16/20\n",
            "22/22 [==============================] - 0s 20ms/step - loss: 67.1601 - mean_absolute_error: 67.1601 - val_loss: 57.4211 - val_mean_absolute_error: 57.4211\n",
            "Epoch 17/20\n",
            "22/22 [==============================] - 0s 19ms/step - loss: 59.0060 - mean_absolute_error: 59.0060 - val_loss: 51.2529 - val_mean_absolute_error: 51.2529\n",
            "Epoch 18/20\n",
            "22/22 [==============================] - 0s 19ms/step - loss: 51.0983 - mean_absolute_error: 51.0983 - val_loss: 71.7906 - val_mean_absolute_error: 71.7906\n",
            "Epoch 19/20\n",
            "22/22 [==============================] - 0s 19ms/step - loss: 63.8340 - mean_absolute_error: 63.8340 - val_loss: 54.0704 - val_mean_absolute_error: 54.0704\n",
            "Epoch 20/20\n",
            "22/22 [==============================] - 0s 19ms/step - loss: 53.2205 - mean_absolute_error: 53.2205 - val_loss: 49.7170 - val_mean_absolute_error: 49.7170\n"
          ],
          "name": "stdout"
        }
      ]
    },
    {
      "cell_type": "code",
      "metadata": {
        "id": "3EKV7Ppj8r3c",
        "outputId": "613612d0-8aff-49a1-8bf1-16aa5539ac44",
        "colab": {
          "base_uri": "https://localhost:8080/"
        }
      },
      "source": [
        "regressor_hist.history.keys()"
      ],
      "execution_count": 116,
      "outputs": [
        {
          "output_type": "execute_result",
          "data": {
            "text/plain": [
              "dict_keys(['loss', 'mean_absolute_error', 'val_loss', 'val_mean_absolute_error'])"
            ]
          },
          "metadata": {
            "tags": []
          },
          "execution_count": 116
        }
      ]
    },
    {
      "cell_type": "code",
      "metadata": {
        "id": "Cdv1F5IC823T"
      },
      "source": [
        "y_pred = regressor.predict(x_test)"
      ],
      "execution_count": 117,
      "outputs": []
    },
    {
      "cell_type": "code",
      "metadata": {
        "id": "fQUBxWmO9Oxw",
        "outputId": "0174ec45-451a-475c-81d6-3362a965516f",
        "colab": {
          "base_uri": "https://localhost:8080/",
          "height": 294
        }
      },
      "source": [
        "import matplotlib.pyplot as plt\n",
        "plt.plot(regressor_hist.history[\"mean_absolute_error\"])\n",
        "plt.plot(regressor_hist.history[\"val_mean_absolute_error\"])\n",
        "plt.title(\"model mean_absolute_error\")\n",
        "plt.ylabel(\"mean_absolute_error\")\n",
        "plt.xlabel(\"epoch\")\n",
        "plt.legend([\"train\",\"val_mean_absolute_error\"],loc=\"upper left\")\n",
        "plt.show()"
      ],
      "execution_count": 118,
      "outputs": [
        {
          "output_type": "display_data",
          "data": {
            "image/png": "[encoded data removed]",
            "text/plain": [
              "<Figure size 432x288 with 1 Axes>"
            ]
          },
          "metadata": {
            "tags": [],
            "needs_background": "light"
          }
        }
      ]
    },
    {
      "cell_type": "code",
      "metadata": {
        "id": "q4PnNp2j_X3a"
      },
      "source": [
        ""
      ],
      "execution_count": 148,
      "outputs": []
    },
    {
      "cell_type": "code",
      "metadata": {
        "id": "mUl8kVkn_37d"
      },
      "source": [
        ""
      ],
      "execution_count": 148,
      "outputs": []
    },
    {
      "cell_type": "code",
      "metadata": {
        "id": "5Qtgq7HLAXNU"
      },
      "source": [
        ""
      ],
      "execution_count": null,
      "outputs": []
    }
  ]
}