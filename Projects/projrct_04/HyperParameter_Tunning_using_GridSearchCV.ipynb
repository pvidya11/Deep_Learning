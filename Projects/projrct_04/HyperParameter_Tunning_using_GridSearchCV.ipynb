{
  "nbformat": 4,
  "nbformat_minor": 0,
  "metadata": {
    "colab": {
      "name": "HyperParameter_Tunning_using_GridSearchCV.ipynb",
      "provenance": [],
      "collapsed_sections": [],
      "toc_visible": true,
      "authorship_tag": "ABX9TyNM+BpZQ8lT2xMxJgF6dA+G",
      "include_colab_link": true
    },
    "kernelspec": {
      "name": "python3",
      "display_name": "Python 3"
    },
    "language_info": {
      "name": "python"
    }
  },
  "cells": [
    {
      "cell_type": "markdown",
      "metadata": {
        "id": "view-in-github",
        "colab_type": "text"
      },
      "source": [
        "<a href=\"https://colab.research.google.com/github/pvidya11/Deep_Learning/blob/main/Projects/projrct_04/HyperParameter_Tunning_using_GridSearchCV.ipynb\" target=\"_parent\"><img src=\"https://colab.research.google.com/assets/colab-badge.svg\" alt=\"Open In Colab\"/></a>"
      ]
    },
    {
      "cell_type": "markdown",
      "metadata": {
        "id": "wxsWkDlKUF6q"
      },
      "source": [
        "# Artificial Neural Network"
      ]
    },
    {
      "cell_type": "markdown",
      "metadata": {
        "id": "ZYMtMsCDUNQq"
      },
      "source": [
        "# Part 1 - Data Preprocessing"
      ]
    },
    {
      "cell_type": "code",
      "metadata": {
        "id": "JarRM9zGUTfR"
      },
      "source": [
        "# Importing the libraries\n",
        "import numpy as np\n",
        "import matplotlib.pyplot as plt\n",
        "import pandas as pd"
      ],
      "execution_count": 130,
      "outputs": []
    },
    {
      "cell_type": "code",
      "metadata": {
        "id": "lIHmvGZOUa25"
      },
      "source": [
        "# Importing the dataset\n",
        "dataset = pd.read_csv('sample_data/Churn_Modelling.csv')\n",
        "X = dataset.iloc[:, 3:13]\n",
        "y = dataset.iloc[:, 13]\n",
        "\n",
        "#Create dummy variables\n",
        "geography=pd.get_dummies(X[\"Geography\"],drop_first=True)\n",
        "gender=pd.get_dummies(X['Gender'],drop_first=True)\n",
        "\n",
        "## Concatenate the Data Frames\n",
        "\n",
        "X=pd.concat([X,geography,gender],axis=1)\n",
        "\n",
        "## Drop Unnecessary columns\n",
        "X=X.drop(['Geography','Gender'],axis=1)\n"
      ],
      "execution_count": 131,
      "outputs": []
    },
    {
      "cell_type": "code",
      "metadata": {
        "id": "TVSWqD6_Ucli"
      },
      "source": [
        "\n",
        "# Splitting the dataset into the Training set and Test set\n",
        "from sklearn.model_selection import train_test_split\n",
        "X_train, X_test, y_train, y_test = train_test_split(X, y, test_size = 0.2, random_state = 0)\n"
      ],
      "execution_count": 132,
      "outputs": []
    },
    {
      "cell_type": "code",
      "metadata": {
        "id": "4GAN2fucUgn0"
      },
      "source": [
        "# Feature Scaling\n",
        "from sklearn.preprocessing import StandardScaler\n",
        "sc = StandardScaler()\n",
        "X_train = sc.fit_transform(X_train)\n",
        "X_test = sc.transform(X_test)"
      ],
      "execution_count": 133,
      "outputs": []
    },
    {
      "cell_type": "code",
      "metadata": {
        "id": "MDsUB1uRUjKo"
      },
      "source": [
        "## Perform Hyperparameter Optimization\n",
        "\n",
        "from keras.wrappers.scikit_learn import KerasClassifier\n",
        "from sklearn.model_selection import GridSearchCV\n",
        "\n",
        "from keras.models import Sequential\n",
        "from keras.layers import Dense, Activation, Embedding, Flatten, LeakyReLU, BatchNormalization, Dropout\n",
        "from keras.activations import relu, sigmoid\n"
      ],
      "execution_count": 134,
      "outputs": []
    },
    {
      "cell_type": "code",
      "metadata": {
        "id": "NfpUdgmrUpi4"
      },
      "source": [
        "def create_model(layers, activation):\n",
        "    model = Sequential()\n",
        "    for i, nodes in enumerate(layers):\n",
        "        if i==0:\n",
        "            model.add(Dense(nodes,input_dim=X_train.shape[1]))\n",
        "            model.add(Activation(activation))\n",
        "            model.add(Dropout(0.3))\n",
        "        else:\n",
        "            model.add(Dense(nodes))\n",
        "            model.add(Activation(activation))\n",
        "            model.add(Dropout(0.3))\n",
        "            \n",
        "    model.add(Dense(units = 1, kernel_initializer= 'glorot_uniform', activation = 'sigmoid')) # Note: no activation beyond this point\n",
        "    \n",
        "    model.compile(optimizer='adam', loss='binary_crossentropy',metrics=['accuracy'])\n",
        "    return model\n"
      ],
      "execution_count": 135,
      "outputs": []
    },
    {
      "cell_type": "code",
      "metadata": {
        "id": "eubGK0L-U05p"
      },
      "source": [
        "model = KerasClassifier(build_fn=create_model, verbose=0)\n",
        "\n",
        "\n",
        "layers = [(20,), (40, 20), (45, 30, 15),(32, 64, 64,32)]\n",
        "activations = ['sigmoid', 'relu']\n",
        "param_grid = dict(layers=layers, activation=activations, batch_size = [128, 256], epochs=[30])\n",
        "grid = GridSearchCV(estimator=model, param_grid=param_grid,cv=5)\n"
      ],
      "execution_count": 136,
      "outputs": []
    },
    {
      "cell_type": "code",
      "metadata": {
        "id": "oXuonu1eU2LK"
      },
      "source": [
        "grid_result = grid.fit(X_train, y_train)\n"
      ],
      "execution_count": 137,
      "outputs": []
    },
    {
      "cell_type": "code",
      "metadata": {
        "id": "GtJQNhimPZXJ",
        "colab": {
          "base_uri": "https://localhost:8080/"
        },
        "outputId": "12952a65-115e-4cde-a50c-4d50bd060bf9"
      },
      "source": [
        "[grid_result.best_score_,grid_result.best_params_]"
      ],
      "execution_count": 138,
      "outputs": [
        {
          "output_type": "execute_result",
          "data": {
            "text/plain": [
              "[0.8577499866485596,\n",
              " {'activation': 'relu',\n",
              "  'batch_size': 128,\n",
              "  'epochs': 30,\n",
              "  'layers': (32, 64, 64, 32)}]"
            ]
          },
          "metadata": {
            "tags": []
          },
          "execution_count": 138
        }
      ]
    },
    {
      "cell_type": "markdown",
      "metadata": {
        "id": "z9_NKJyfyXyS"
      },
      "source": [
        "# prepare best model as per above results\n",
        "\n",
        "[0.8573750019073486,\n",
        " {'activation': 'relu',\n",
        "  'batch_size': 128,\n",
        "  'epochs': 30,\n",
        "  'layers': (45, 30, 15)}]"
      ]
    },
    {
      "cell_type": "code",
      "metadata": {
        "id": "VHgzdcdofzOx"
      },
      "source": [
        "class_model = Sequential()\n",
        "\n",
        "class_model.add(Dense(units=32,activation=\"relu\",kernel_initializer=\"he_uniform\",input_dim=X_train.shape[1]))\n",
        "class_model.add(Dropout(rate=0.2))\n",
        "class_model.add(Dense(units=64,activation=\"relu\",kernel_initializer=\"he_uniform\"))\n",
        "class_model.add(Dropout(rate=0.2))\n",
        "class_model.add(Dense(units=64,activation=\"relu\",kernel_initializer=\"he_uniform\"))\n",
        "class_model.add(Dropout(rate=0.2))\n",
        "class_model.add(Dense(units=32,activation=\"relu\",kernel_initializer=\"he_uniform\"))\n",
        "\n",
        "class_model.add(Dense(units=1,activation=\"sigmoid\"))\n",
        "class_model.compile(optimizer=\"adam\", loss=\"binary_crossentropy\",metrics=[\"accuracy\"])"
      ],
      "execution_count": 154,
      "outputs": []
    },
    {
      "cell_type": "code",
      "metadata": {
        "colab": {
          "base_uri": "https://localhost:8080/"
        },
        "id": "JsV2oeV-2nyr",
        "outputId": "71e82883-75c6-4a09-e8bb-043198635a5f"
      },
      "source": [
        "class_model.summary()"
      ],
      "execution_count": 155,
      "outputs": [
        {
          "output_type": "stream",
          "text": [
            "Model: \"sequential_865\"\n",
            "_________________________________________________________________\n",
            "Layer (type)                 Output Shape              Param #   \n",
            "=================================================================\n",
            "dense_2561 (Dense)           (None, 32)                384       \n",
            "_________________________________________________________________\n",
            "dropout_1766 (Dropout)       (None, 32)                0         \n",
            "_________________________________________________________________\n",
            "dense_2562 (Dense)           (None, 64)                2112      \n",
            "_________________________________________________________________\n",
            "dropout_1767 (Dropout)       (None, 64)                0         \n",
            "_________________________________________________________________\n",
            "dense_2563 (Dense)           (None, 64)                4160      \n",
            "_________________________________________________________________\n",
            "dropout_1768 (Dropout)       (None, 64)                0         \n",
            "_________________________________________________________________\n",
            "dense_2564 (Dense)           (None, 32)                2080      \n",
            "_________________________________________________________________\n",
            "dense_2565 (Dense)           (None, 1)                 33        \n",
            "=================================================================\n",
            "Total params: 8,769\n",
            "Trainable params: 8,769\n",
            "Non-trainable params: 0\n",
            "_________________________________________________________________\n"
          ],
          "name": "stdout"
        }
      ]
    },
    {
      "cell_type": "code",
      "metadata": {
        "colab": {
          "base_uri": "https://localhost:8080/"
        },
        "id": "QtaA1-j909fD",
        "outputId": "bc3d501b-e8bb-4ee0-d81e-9e95116186ca"
      },
      "source": [
        "class_model_hist = class_model.fit(X_train, y_train, batch_size=128,epochs=100,validation_split=0.2)"
      ],
      "execution_count": 156,
      "outputs": [
        {
          "output_type": "stream",
          "text": [
            "Epoch 1/100\n",
            "50/50 [==============================] - 1s 7ms/step - loss: 0.9515 - accuracy: 0.6244 - val_loss: 0.4851 - val_accuracy: 0.7975\n",
            "Epoch 2/100\n",
            "50/50 [==============================] - 0s 3ms/step - loss: 0.5336 - accuracy: 0.7692 - val_loss: 0.4531 - val_accuracy: 0.8000\n",
            "Epoch 3/100\n",
            "50/50 [==============================] - 0s 3ms/step - loss: 0.5018 - accuracy: 0.7892 - val_loss: 0.4353 - val_accuracy: 0.8056\n",
            "Epoch 4/100\n",
            "50/50 [==============================] - 0s 4ms/step - loss: 0.4724 - accuracy: 0.7978 - val_loss: 0.4308 - val_accuracy: 0.8150\n",
            "Epoch 5/100\n",
            "50/50 [==============================] - 0s 3ms/step - loss: 0.4541 - accuracy: 0.7983 - val_loss: 0.4160 - val_accuracy: 0.8194\n",
            "Epoch 6/100\n",
            "50/50 [==============================] - 0s 3ms/step - loss: 0.4541 - accuracy: 0.8047 - val_loss: 0.4115 - val_accuracy: 0.8231\n",
            "Epoch 7/100\n",
            "50/50 [==============================] - 0s 3ms/step - loss: 0.4457 - accuracy: 0.8157 - val_loss: 0.4032 - val_accuracy: 0.8306\n",
            "Epoch 8/100\n",
            "50/50 [==============================] - 0s 3ms/step - loss: 0.4350 - accuracy: 0.8154 - val_loss: 0.3942 - val_accuracy: 0.8256\n",
            "Epoch 9/100\n",
            "50/50 [==============================] - 0s 3ms/step - loss: 0.4430 - accuracy: 0.8071 - val_loss: 0.3883 - val_accuracy: 0.8263\n",
            "Epoch 10/100\n",
            "50/50 [==============================] - 0s 3ms/step - loss: 0.4208 - accuracy: 0.8224 - val_loss: 0.3866 - val_accuracy: 0.8406\n",
            "Epoch 11/100\n",
            "50/50 [==============================] - 0s 3ms/step - loss: 0.4317 - accuracy: 0.8096 - val_loss: 0.3813 - val_accuracy: 0.8419\n",
            "Epoch 12/100\n",
            "50/50 [==============================] - 0s 3ms/step - loss: 0.4145 - accuracy: 0.8196 - val_loss: 0.3726 - val_accuracy: 0.8456\n",
            "Epoch 13/100\n",
            "50/50 [==============================] - 0s 3ms/step - loss: 0.4101 - accuracy: 0.8178 - val_loss: 0.3706 - val_accuracy: 0.8450\n",
            "Epoch 14/100\n",
            "50/50 [==============================] - 0s 3ms/step - loss: 0.4066 - accuracy: 0.8256 - val_loss: 0.3695 - val_accuracy: 0.8475\n",
            "Epoch 15/100\n",
            "50/50 [==============================] - 0s 3ms/step - loss: 0.3951 - accuracy: 0.8319 - val_loss: 0.3658 - val_accuracy: 0.8519\n",
            "Epoch 16/100\n",
            "50/50 [==============================] - 0s 3ms/step - loss: 0.3974 - accuracy: 0.8305 - val_loss: 0.3652 - val_accuracy: 0.8544\n",
            "Epoch 17/100\n",
            "50/50 [==============================] - 0s 3ms/step - loss: 0.4006 - accuracy: 0.8254 - val_loss: 0.3629 - val_accuracy: 0.8531\n",
            "Epoch 18/100\n",
            "50/50 [==============================] - 0s 4ms/step - loss: 0.3959 - accuracy: 0.8310 - val_loss: 0.3601 - val_accuracy: 0.8512\n",
            "Epoch 19/100\n",
            "50/50 [==============================] - 0s 3ms/step - loss: 0.3855 - accuracy: 0.8349 - val_loss: 0.3609 - val_accuracy: 0.8531\n",
            "Epoch 20/100\n",
            "50/50 [==============================] - 0s 3ms/step - loss: 0.3878 - accuracy: 0.8362 - val_loss: 0.3592 - val_accuracy: 0.8519\n",
            "Epoch 21/100\n",
            "50/50 [==============================] - 0s 3ms/step - loss: 0.3954 - accuracy: 0.8359 - val_loss: 0.3563 - val_accuracy: 0.8487\n",
            "Epoch 22/100\n",
            "50/50 [==============================] - 0s 4ms/step - loss: 0.3808 - accuracy: 0.8358 - val_loss: 0.3551 - val_accuracy: 0.8519\n",
            "Epoch 23/100\n",
            "50/50 [==============================] - 0s 3ms/step - loss: 0.3936 - accuracy: 0.8333 - val_loss: 0.3565 - val_accuracy: 0.8575\n",
            "Epoch 24/100\n",
            "50/50 [==============================] - 0s 3ms/step - loss: 0.3944 - accuracy: 0.8335 - val_loss: 0.3541 - val_accuracy: 0.8544\n",
            "Epoch 25/100\n",
            "50/50 [==============================] - 0s 3ms/step - loss: 0.3692 - accuracy: 0.8467 - val_loss: 0.3567 - val_accuracy: 0.8544\n",
            "Epoch 26/100\n",
            "50/50 [==============================] - 0s 3ms/step - loss: 0.3761 - accuracy: 0.8423 - val_loss: 0.3577 - val_accuracy: 0.8544\n",
            "Epoch 27/100\n",
            "50/50 [==============================] - 0s 3ms/step - loss: 0.3735 - accuracy: 0.8380 - val_loss: 0.3569 - val_accuracy: 0.8506\n",
            "Epoch 28/100\n",
            "50/50 [==============================] - 0s 3ms/step - loss: 0.3730 - accuracy: 0.8427 - val_loss: 0.3563 - val_accuracy: 0.8525\n",
            "Epoch 29/100\n",
            "50/50 [==============================] - 0s 3ms/step - loss: 0.3683 - accuracy: 0.8361 - val_loss: 0.3554 - val_accuracy: 0.8531\n",
            "Epoch 30/100\n",
            "50/50 [==============================] - 0s 3ms/step - loss: 0.3647 - accuracy: 0.8399 - val_loss: 0.3557 - val_accuracy: 0.8525\n",
            "Epoch 31/100\n",
            "50/50 [==============================] - 0s 3ms/step - loss: 0.3727 - accuracy: 0.8377 - val_loss: 0.3546 - val_accuracy: 0.8506\n",
            "Epoch 32/100\n",
            "50/50 [==============================] - 0s 3ms/step - loss: 0.3735 - accuracy: 0.8470 - val_loss: 0.3547 - val_accuracy: 0.8525\n",
            "Epoch 33/100\n",
            "50/50 [==============================] - 0s 3ms/step - loss: 0.3677 - accuracy: 0.8406 - val_loss: 0.3545 - val_accuracy: 0.8519\n",
            "Epoch 34/100\n",
            "50/50 [==============================] - 0s 3ms/step - loss: 0.3684 - accuracy: 0.8459 - val_loss: 0.3540 - val_accuracy: 0.8537\n",
            "Epoch 35/100\n",
            "50/50 [==============================] - 0s 3ms/step - loss: 0.3791 - accuracy: 0.8445 - val_loss: 0.3532 - val_accuracy: 0.8562\n",
            "Epoch 36/100\n",
            "50/50 [==============================] - 0s 3ms/step - loss: 0.3663 - accuracy: 0.8414 - val_loss: 0.3529 - val_accuracy: 0.8531\n",
            "Epoch 37/100\n",
            "50/50 [==============================] - 0s 3ms/step - loss: 0.3499 - accuracy: 0.8507 - val_loss: 0.3555 - val_accuracy: 0.8519\n",
            "Epoch 38/100\n",
            "50/50 [==============================] - 0s 3ms/step - loss: 0.3689 - accuracy: 0.8407 - val_loss: 0.3529 - val_accuracy: 0.8575\n",
            "Epoch 39/100\n",
            "50/50 [==============================] - 0s 3ms/step - loss: 0.3640 - accuracy: 0.8462 - val_loss: 0.3552 - val_accuracy: 0.8506\n",
            "Epoch 40/100\n",
            "50/50 [==============================] - 0s 3ms/step - loss: 0.3540 - accuracy: 0.8456 - val_loss: 0.3549 - val_accuracy: 0.8537\n",
            "Epoch 41/100\n",
            "50/50 [==============================] - 0s 3ms/step - loss: 0.3517 - accuracy: 0.8504 - val_loss: 0.3541 - val_accuracy: 0.8537\n",
            "Epoch 42/100\n",
            "50/50 [==============================] - 0s 3ms/step - loss: 0.3461 - accuracy: 0.8531 - val_loss: 0.3543 - val_accuracy: 0.8569\n",
            "Epoch 43/100\n",
            "50/50 [==============================] - 0s 3ms/step - loss: 0.3421 - accuracy: 0.8574 - val_loss: 0.3543 - val_accuracy: 0.8531\n",
            "Epoch 44/100\n",
            "50/50 [==============================] - 0s 3ms/step - loss: 0.3454 - accuracy: 0.8565 - val_loss: 0.3534 - val_accuracy: 0.8556\n",
            "Epoch 45/100\n",
            "50/50 [==============================] - 1s 11ms/step - loss: 0.3632 - accuracy: 0.8489 - val_loss: 0.3543 - val_accuracy: 0.8569\n",
            "Epoch 46/100\n",
            "50/50 [==============================] - 0s 3ms/step - loss: 0.3536 - accuracy: 0.8493 - val_loss: 0.3534 - val_accuracy: 0.8550\n",
            "Epoch 47/100\n",
            "50/50 [==============================] - 0s 3ms/step - loss: 0.3589 - accuracy: 0.8487 - val_loss: 0.3548 - val_accuracy: 0.8562\n",
            "Epoch 48/100\n",
            "50/50 [==============================] - 0s 3ms/step - loss: 0.3581 - accuracy: 0.8520 - val_loss: 0.3527 - val_accuracy: 0.8575\n",
            "Epoch 49/100\n",
            "50/50 [==============================] - 0s 3ms/step - loss: 0.3544 - accuracy: 0.8480 - val_loss: 0.3522 - val_accuracy: 0.8569\n",
            "Epoch 50/100\n",
            "50/50 [==============================] - 0s 4ms/step - loss: 0.3551 - accuracy: 0.8519 - val_loss: 0.3534 - val_accuracy: 0.8550\n",
            "Epoch 51/100\n",
            "50/50 [==============================] - 0s 3ms/step - loss: 0.3602 - accuracy: 0.8488 - val_loss: 0.3552 - val_accuracy: 0.8556\n",
            "Epoch 52/100\n",
            "50/50 [==============================] - 0s 3ms/step - loss: 0.3528 - accuracy: 0.8478 - val_loss: 0.3529 - val_accuracy: 0.8606\n",
            "Epoch 53/100\n",
            "50/50 [==============================] - 0s 3ms/step - loss: 0.3547 - accuracy: 0.8481 - val_loss: 0.3524 - val_accuracy: 0.8606\n",
            "Epoch 54/100\n",
            "50/50 [==============================] - 0s 3ms/step - loss: 0.3547 - accuracy: 0.8539 - val_loss: 0.3523 - val_accuracy: 0.8637\n",
            "Epoch 55/100\n",
            "50/50 [==============================] - 0s 3ms/step - loss: 0.3520 - accuracy: 0.8500 - val_loss: 0.3528 - val_accuracy: 0.8650\n",
            "Epoch 56/100\n",
            "50/50 [==============================] - 0s 4ms/step - loss: 0.3609 - accuracy: 0.8450 - val_loss: 0.3531 - val_accuracy: 0.8569\n",
            "Epoch 57/100\n",
            "50/50 [==============================] - 0s 4ms/step - loss: 0.3493 - accuracy: 0.8552 - val_loss: 0.3533 - val_accuracy: 0.8612\n",
            "Epoch 58/100\n",
            "50/50 [==============================] - 0s 4ms/step - loss: 0.3541 - accuracy: 0.8564 - val_loss: 0.3541 - val_accuracy: 0.8562\n",
            "Epoch 59/100\n",
            "50/50 [==============================] - 0s 3ms/step - loss: 0.3545 - accuracy: 0.8479 - val_loss: 0.3540 - val_accuracy: 0.8606\n",
            "Epoch 60/100\n",
            "50/50 [==============================] - 0s 4ms/step - loss: 0.3362 - accuracy: 0.8624 - val_loss: 0.3520 - val_accuracy: 0.8550\n",
            "Epoch 61/100\n",
            "50/50 [==============================] - 0s 4ms/step - loss: 0.3478 - accuracy: 0.8513 - val_loss: 0.3518 - val_accuracy: 0.8594\n",
            "Epoch 62/100\n",
            "50/50 [==============================] - 0s 3ms/step - loss: 0.3486 - accuracy: 0.8556 - val_loss: 0.3522 - val_accuracy: 0.8600\n",
            "Epoch 63/100\n",
            "50/50 [==============================] - 0s 4ms/step - loss: 0.3445 - accuracy: 0.8577 - val_loss: 0.3533 - val_accuracy: 0.8606\n",
            "Epoch 64/100\n",
            "50/50 [==============================] - 0s 4ms/step - loss: 0.3532 - accuracy: 0.8508 - val_loss: 0.3499 - val_accuracy: 0.8575\n",
            "Epoch 65/100\n",
            "50/50 [==============================] - 0s 3ms/step - loss: 0.3350 - accuracy: 0.8632 - val_loss: 0.3527 - val_accuracy: 0.8581\n",
            "Epoch 66/100\n",
            "50/50 [==============================] - 0s 4ms/step - loss: 0.3431 - accuracy: 0.8559 - val_loss: 0.3526 - val_accuracy: 0.8612\n",
            "Epoch 67/100\n",
            "50/50 [==============================] - 0s 3ms/step - loss: 0.3376 - accuracy: 0.8571 - val_loss: 0.3528 - val_accuracy: 0.8594\n",
            "Epoch 68/100\n",
            "50/50 [==============================] - 0s 4ms/step - loss: 0.3400 - accuracy: 0.8570 - val_loss: 0.3544 - val_accuracy: 0.8587\n",
            "Epoch 69/100\n",
            "50/50 [==============================] - 0s 4ms/step - loss: 0.3401 - accuracy: 0.8608 - val_loss: 0.3541 - val_accuracy: 0.8587\n",
            "Epoch 70/100\n",
            "50/50 [==============================] - 0s 3ms/step - loss: 0.3427 - accuracy: 0.8548 - val_loss: 0.3512 - val_accuracy: 0.8594\n",
            "Epoch 71/100\n",
            "50/50 [==============================] - 0s 3ms/step - loss: 0.3342 - accuracy: 0.8523 - val_loss: 0.3511 - val_accuracy: 0.8587\n",
            "Epoch 72/100\n",
            "50/50 [==============================] - 0s 3ms/step - loss: 0.3382 - accuracy: 0.8587 - val_loss: 0.3523 - val_accuracy: 0.8594\n",
            "Epoch 73/100\n",
            "50/50 [==============================] - 0s 4ms/step - loss: 0.3449 - accuracy: 0.8613 - val_loss: 0.3529 - val_accuracy: 0.8606\n",
            "Epoch 74/100\n",
            "50/50 [==============================] - 0s 3ms/step - loss: 0.3493 - accuracy: 0.8558 - val_loss: 0.3523 - val_accuracy: 0.8619\n",
            "Epoch 75/100\n",
            "50/50 [==============================] - 0s 3ms/step - loss: 0.3419 - accuracy: 0.8590 - val_loss: 0.3518 - val_accuracy: 0.8606\n",
            "Epoch 76/100\n",
            "50/50 [==============================] - 0s 3ms/step - loss: 0.3342 - accuracy: 0.8553 - val_loss: 0.3498 - val_accuracy: 0.8631\n",
            "Epoch 77/100\n",
            "50/50 [==============================] - 0s 3ms/step - loss: 0.3360 - accuracy: 0.8524 - val_loss: 0.3505 - val_accuracy: 0.8619\n",
            "Epoch 78/100\n",
            "50/50 [==============================] - 0s 4ms/step - loss: 0.3298 - accuracy: 0.8609 - val_loss: 0.3508 - val_accuracy: 0.8631\n",
            "Epoch 79/100\n",
            "50/50 [==============================] - 0s 3ms/step - loss: 0.3448 - accuracy: 0.8514 - val_loss: 0.3507 - val_accuracy: 0.8631\n",
            "Epoch 80/100\n",
            "50/50 [==============================] - 0s 4ms/step - loss: 0.3226 - accuracy: 0.8630 - val_loss: 0.3500 - val_accuracy: 0.8619\n",
            "Epoch 81/100\n",
            "50/50 [==============================] - 0s 3ms/step - loss: 0.3364 - accuracy: 0.8555 - val_loss: 0.3506 - val_accuracy: 0.8625\n",
            "Epoch 82/100\n",
            "50/50 [==============================] - 0s 4ms/step - loss: 0.3252 - accuracy: 0.8666 - val_loss: 0.3489 - val_accuracy: 0.8631\n",
            "Epoch 83/100\n",
            "50/50 [==============================] - 0s 4ms/step - loss: 0.3410 - accuracy: 0.8602 - val_loss: 0.3502 - val_accuracy: 0.8606\n",
            "Epoch 84/100\n",
            "50/50 [==============================] - 0s 4ms/step - loss: 0.3347 - accuracy: 0.8615 - val_loss: 0.3489 - val_accuracy: 0.8612\n",
            "Epoch 85/100\n",
            "50/50 [==============================] - 0s 3ms/step - loss: 0.3382 - accuracy: 0.8541 - val_loss: 0.3497 - val_accuracy: 0.8587\n",
            "Epoch 86/100\n",
            "50/50 [==============================] - 0s 4ms/step - loss: 0.3299 - accuracy: 0.8541 - val_loss: 0.3510 - val_accuracy: 0.8606\n",
            "Epoch 87/100\n",
            "50/50 [==============================] - 0s 4ms/step - loss: 0.3336 - accuracy: 0.8664 - val_loss: 0.3511 - val_accuracy: 0.8644\n",
            "Epoch 88/100\n",
            "50/50 [==============================] - 0s 3ms/step - loss: 0.3293 - accuracy: 0.8592 - val_loss: 0.3496 - val_accuracy: 0.8656\n",
            "Epoch 89/100\n",
            "50/50 [==============================] - 0s 3ms/step - loss: 0.3421 - accuracy: 0.8579 - val_loss: 0.3515 - val_accuracy: 0.8637\n",
            "Epoch 90/100\n",
            "50/50 [==============================] - 0s 3ms/step - loss: 0.3329 - accuracy: 0.8644 - val_loss: 0.3507 - val_accuracy: 0.8631\n",
            "Epoch 91/100\n",
            "50/50 [==============================] - 0s 4ms/step - loss: 0.3453 - accuracy: 0.8544 - val_loss: 0.3505 - val_accuracy: 0.8637\n",
            "Epoch 92/100\n",
            "50/50 [==============================] - 0s 3ms/step - loss: 0.3268 - accuracy: 0.8654 - val_loss: 0.3471 - val_accuracy: 0.8631\n",
            "Epoch 93/100\n",
            "50/50 [==============================] - 0s 3ms/step - loss: 0.3249 - accuracy: 0.8647 - val_loss: 0.3491 - val_accuracy: 0.8644\n",
            "Epoch 94/100\n",
            "50/50 [==============================] - 0s 3ms/step - loss: 0.3393 - accuracy: 0.8570 - val_loss: 0.3472 - val_accuracy: 0.8637\n",
            "Epoch 95/100\n",
            "50/50 [==============================] - 0s 3ms/step - loss: 0.3297 - accuracy: 0.8662 - val_loss: 0.3476 - val_accuracy: 0.8619\n",
            "Epoch 96/100\n",
            "50/50 [==============================] - 0s 4ms/step - loss: 0.3292 - accuracy: 0.8636 - val_loss: 0.3492 - val_accuracy: 0.8587\n",
            "Epoch 97/100\n",
            "50/50 [==============================] - 0s 3ms/step - loss: 0.3322 - accuracy: 0.8589 - val_loss: 0.3493 - val_accuracy: 0.8625\n",
            "Epoch 98/100\n",
            "50/50 [==============================] - 0s 3ms/step - loss: 0.3376 - accuracy: 0.8596 - val_loss: 0.3492 - val_accuracy: 0.8625\n",
            "Epoch 99/100\n",
            "50/50 [==============================] - 0s 3ms/step - loss: 0.3402 - accuracy: 0.8584 - val_loss: 0.3486 - val_accuracy: 0.8644\n",
            "Epoch 100/100\n",
            "50/50 [==============================] - 0s 4ms/step - loss: 0.3304 - accuracy: 0.8608 - val_loss: 0.3464 - val_accuracy: 0.8637\n"
          ],
          "name": "stdout"
        }
      ]
    },
    {
      "cell_type": "code",
      "metadata": {
        "id": "aW-U_vT11X7d",
        "colab": {
          "base_uri": "https://localhost:8080/"
        },
        "outputId": "503fe4fb-5169-4de9-a896-156be565fcc8"
      },
      "source": [
        "class_model_hist.history.keys()"
      ],
      "execution_count": 157,
      "outputs": [
        {
          "output_type": "execute_result",
          "data": {
            "text/plain": [
              "dict_keys(['loss', 'accuracy', 'val_loss', 'val_accuracy'])"
            ]
          },
          "metadata": {
            "tags": []
          },
          "execution_count": 157
        }
      ]
    },
    {
      "cell_type": "code",
      "metadata": {
        "colab": {
          "base_uri": "https://localhost:8080/",
          "height": 350
        },
        "id": "TgV2kjmO8Hkk",
        "outputId": "26d62b23-43fd-4a6e-803a-86d949a1a850"
      },
      "source": [
        "import matplotlib.pyplot as plt\n",
        "plt.figure(figsize=(5,5))\n",
        "plt.plot(class_model_hist.history[\"accuracy\"], color=\"blue\")\n",
        "plt.plot(class_model_hist.history[\"val_accuracy\"], color=\"orange\")\n",
        "plt.xlabel(\"epoch\")\n",
        "plt.ylabel(\"accuracy\")\n",
        "plt.legend([\"accuracy\",\"val_acc\"])\n",
        "plt.title(\"acc vs epoch\")\n",
        "plt.show()"
      ],
      "execution_count": 158,
      "outputs": [
        {
          "output_type": "display_data",
          "data": {
            "image/png": "[encoded data removed]",
            "text/plain": [
              "<Figure size 360x360 with 1 Axes>"
            ]
          },
          "metadata": {
            "tags": [],
            "needs_background": "light"
          }
        }
      ]
    },
    {
      "cell_type": "code",
      "metadata": {
        "id": "nzYMJCD69XFg"
      },
      "source": [
        "y_pred = class_model.predict(X_test)"
      ],
      "execution_count": 159,
      "outputs": []
    },
    {
      "cell_type": "code",
      "metadata": {
        "colab": {
          "base_uri": "https://localhost:8080/"
        },
        "id": "ilQd3RTb9tjB",
        "outputId": "c80ceda8-205d-4f7d-f0bb-8154ae6bc19c"
      },
      "source": [
        "y_pred"
      ],
      "execution_count": 160,
      "outputs": [
        {
          "output_type": "execute_result",
          "data": {
            "text/plain": [
              "array([[0.17820051],\n",
              "       [0.35227698],\n",
              "       [0.13423812],\n",
              "       ...,\n",
              "       [0.20746806],\n",
              "       [0.27900177],\n",
              "       [0.20782292]], dtype=float32)"
            ]
          },
          "metadata": {
            "tags": []
          },
          "execution_count": 160
        }
      ]
    },
    {
      "cell_type": "code",
      "metadata": {
        "id": "_JTZi_zz9_Hb"
      },
      "source": [
        "y_test_1 = y_test.reset_index()"
      ],
      "execution_count": 161,
      "outputs": []
    },
    {
      "cell_type": "code",
      "metadata": {
        "colab": {
          "base_uri": "https://localhost:8080/"
        },
        "id": "O4HrlK6G-JIl",
        "outputId": "bd25c5c0-90cf-408a-cddb-684cdf56fa74"
      },
      "source": [
        "y_test_1[\"Exited\"]"
      ],
      "execution_count": 162,
      "outputs": [
        {
          "output_type": "execute_result",
          "data": {
            "text/plain": [
              "0       0\n",
              "1       1\n",
              "2       0\n",
              "3       0\n",
              "4       0\n",
              "       ..\n",
              "1995    0\n",
              "1996    0\n",
              "1997    0\n",
              "1998    0\n",
              "1999    0\n",
              "Name: Exited, Length: 2000, dtype: int64"
            ]
          },
          "metadata": {
            "tags": []
          },
          "execution_count": 162
        }
      ]
    },
    {
      "cell_type": "code",
      "metadata": {
        "id": "tGgPJKXTAPvh"
      },
      "source": [
        "y_pred = [np.int(i) for i in (y_pred > 0.5)]"
      ],
      "execution_count": 182,
      "outputs": []
    },
    {
      "cell_type": "code",
      "metadata": {
        "id": "3laoOsjj-LSP"
      },
      "source": [
        "from sklearn.metrics import confusion_matrix"
      ],
      "execution_count": 183,
      "outputs": []
    },
    {
      "cell_type": "code",
      "metadata": {
        "id": "XDVgNw5v-uRR"
      },
      "source": [
        "cm = confusion_matrix(y_test, y_pred)"
      ],
      "execution_count": 184,
      "outputs": []
    },
    {
      "cell_type": "code",
      "metadata": {
        "id": "ygwd9YODADkb"
      },
      "source": [
        "import seaborn as sns"
      ],
      "execution_count": 185,
      "outputs": []
    },
    {
      "cell_type": "code",
      "metadata": {
        "colab": {
          "base_uri": "https://localhost:8080/",
          "height": 282
        },
        "id": "JNnMPef6Aqly",
        "outputId": "2ecfc895-421a-4e8e-9190-8913bdc7dda1"
      },
      "source": [
        "sns.heatmap(cm, cmap=\"Blues\", annot=True, \n",
        "            fmt='d')"
      ],
      "execution_count": 186,
      "outputs": [
        {
          "output_type": "execute_result",
          "data": {
            "text/plain": [
              "<matplotlib.axes._subplots.AxesSubplot at 0x7f16859987d0>"
            ]
          },
          "metadata": {
            "tags": []
          },
          "execution_count": 186
        },
        {
          "output_type": "display_data",
          "data": {
            "image/png": "[encoded data removed]",
            "text/plain": [
              "<Figure size 432x288 with 2 Axes>"
            ]
          },
          "metadata": {
            "tags": [],
            "needs_background": "light"
          }
        }
      ]
    },
    {
      "cell_type": "code",
      "metadata": {
        "id": "GtGut4JPAyz7"
      },
      "source": [
        "#Classification Report\n",
        "\n",
        "from sklearn.metrics import classification_report\n",
        "cr = classification_report(y_test,y_pred)"
      ],
      "execution_count": 195,
      "outputs": []
    },
    {
      "cell_type": "code",
      "metadata": {
        "colab": {
          "base_uri": "https://localhost:8080/"
        },
        "id": "brqn9uSGFdMN",
        "outputId": "66954eb9-0f30-4ba9-dcf1-1f9f0bfcb40f"
      },
      "source": [
        "print(cr)"
      ],
      "execution_count": 196,
      "outputs": [
        {
          "output_type": "stream",
          "text": [
            "              precision    recall  f1-score   support\n",
            "\n",
            "           0       0.88      0.95      0.91      1595\n",
            "           1       0.71      0.51      0.60       405\n",
            "\n",
            "    accuracy                           0.86      2000\n",
            "   macro avg       0.80      0.73      0.75      2000\n",
            "weighted avg       0.85      0.86      0.85      2000\n",
            "\n"
          ],
          "name": "stdout"
        }
      ]
    },
    {
      "cell_type": "code",
      "metadata": {
        "id": "rpYwbls1Fk-e"
      },
      "source": [
        ""
      ],
      "execution_count": 189,
      "outputs": []
    },
    {
      "cell_type": "code",
      "metadata": {
        "id": "31UMPe5IFxLp"
      },
      "source": [
        ""
      ],
      "execution_count": null,
      "outputs": []
    }
  ]
}