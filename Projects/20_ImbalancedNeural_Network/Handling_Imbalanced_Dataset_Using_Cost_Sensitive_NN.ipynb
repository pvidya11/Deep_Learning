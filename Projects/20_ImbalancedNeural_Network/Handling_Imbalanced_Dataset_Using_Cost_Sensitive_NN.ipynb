{
  "nbformat": 4,
  "nbformat_minor": 0,
  "metadata": {
    "colab": {
      "name": "Handling_Imbalanced_Dataset_Using_Cost_Sensitive_NN.ipynb",
      "provenance": [],
      "authorship_tag": "ABX9TyPnWr92goK5ljHHSTBR3n/L",
      "include_colab_link": true
    },
    "kernelspec": {
      "name": "python3",
      "display_name": "Python 3"
    },
    "language_info": {
      "name": "python"
    }
  },
  "cells": [
    {
      "cell_type": "markdown",
      "metadata": {
        "id": "view-in-github",
        "colab_type": "text"
      },
      "source": [
        "<a href=\"https://colab.research.google.com/github/pvidya11/Deep_Learning/blob/main/Projects/20_ImbalancedNeural_Network/Handling_Imbalanced_Dataset_Using_Cost_Sensitive_NN.ipynb\" target=\"_parent\"><img src=\"https://colab.research.google.com/assets/colab-badge.svg\" alt=\"Open In Colab\"/></a>"
      ]
    },
    {
      "cell_type": "code",
      "metadata": {
        "id": "K-7epNr51ULF"
      },
      "source": [
        "D:\\Deep_Learning\\cost_sensitive_Handling_Imbalanced_Classification_Using_NN\\creditcard.csv.zip"
      ],
      "execution_count": null,
      "outputs": []
    }
  ]
}