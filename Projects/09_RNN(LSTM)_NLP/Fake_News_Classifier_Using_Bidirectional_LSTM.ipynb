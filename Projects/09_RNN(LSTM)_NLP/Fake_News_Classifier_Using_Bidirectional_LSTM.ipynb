{
  "nbformat": 4,
  "nbformat_minor": 0,
  "metadata": {
    "colab": {
      "name": "Fake_News_Classifier_Using_Bidirectional_LSTM.ipynb",
      "provenance": [],
      "authorship_tag": "ABX9TyOVhEjOh3uYDkNSH6ELdLED",
      "include_colab_link": true
    },
    "kernelspec": {
      "name": "python3",
      "display_name": "Python 3"
    },
    "language_info": {
      "name": "python"
    }
  },
  "cells": [
    {
      "cell_type": "markdown",
      "metadata": {
        "id": "view-in-github",
        "colab_type": "text"
      },
      "source": [
        "<a href=\"https://colab.research.google.com/github/pvidya11/Deep_Learning/blob/main/Projects/09_RNN(LSTM)_NLP/Fake_News_Classifier_Using_Bidirectional_LSTM.ipynb\" target=\"_parent\"><img src=\"https://colab.research.google.com/assets/colab-badge.svg\" alt=\"Open In Colab\"/></a>"
      ]
    },
    {
      "cell_type": "code",
      "metadata": {
        "id": "lYuvxOYeRALk"
      },
      "source": [
        "import pandas as pd\n",
        "import numpy as np"
      ],
      "execution_count": 1,
      "outputs": []
    },
    {
      "cell_type": "code",
      "metadata": {
        "id": "jiEesIsTjeSs"
      },
      "source": [
        "Training_file_path = \"https://raw.githubusercontent.com/pvidya11/Deep_Learning/main/Projects/09_RNN(LSTM)_NLP/Sample_Data/fake-news/train.csv\"\n",
        "Test_file_path = \"https://raw.githubusercontent.com/pvidya11/Deep_Learning/main/Projects/09_RNN(LSTM)_NLP/Sample_Data/fake-news/test.csv\""
      ],
      "execution_count": 2,
      "outputs": []
    },
    {
      "cell_type": "code",
      "metadata": {
        "id": "KqnZUYY-j_gO"
      },
      "source": [
        "Train_df = pd.read_csv(Training_file_path)\n",
        "Test_df = pd.read_csv(Test_file_path)"
      ],
      "execution_count": 3,
      "outputs": []
    },
    {
      "cell_type": "code",
      "metadata": {
        "id": "KebYEeMGkQIg"
      },
      "source": [
        "train_df_1 = Train_df\n",
        "test_df_1 = Test_df"
      ],
      "execution_count": 5,
      "outputs": []
    },
    {
      "cell_type": "code",
      "metadata": {
        "colab": {
          "base_uri": "https://localhost:8080/"
        },
        "id": "MIB0PGCrkj9k",
        "outputId": "78e2112c-4d70-41ee-8190-c4fd7d36fa55"
      },
      "source": [
        "train_df_1.shape, test_df_1.shape"
      ],
      "execution_count": 7,
      "outputs": [
        {
          "output_type": "execute_result",
          "data": {
            "text/plain": [
              "((20800, 5), (5200, 4))"
            ]
          },
          "metadata": {
            "tags": []
          },
          "execution_count": 7
        }
      ]
    },
    {
      "cell_type": "code",
      "metadata": {
        "colab": {
          "base_uri": "https://localhost:8080/",
          "height": 191
        },
        "id": "3ImHreFYk4ld",
        "outputId": "c703dd70-5f4d-445d-cff4-d5fbe17c83b6"
      },
      "source": [
        "train_df_1.head()"
      ],
      "execution_count": 8,
      "outputs": [
        {
          "output_type": "execute_result",
          "data": {
            "text/html": [
              "<div>\n",
              "<style scoped>\n",
              "    .dataframe tbody tr th:only-of-type {\n",
              "        vertical-align: middle;\n",
              "    }\n",
              "\n",
              "    .dataframe tbody tr th {\n",
              "        vertical-align: top;\n",
              "    }\n",
              "\n",
              "    .dataframe thead th {\n",
              "        text-align: right;\n",
              "    }\n",
              "</style>\n",
              "<table border=\"1\" class=\"dataframe\">\n",
              "  <thead>\n",
              "    <tr style=\"text-align: right;\">\n",
              "      <th></th>\n",
              "      <th>id</th>\n",
              "      <th>title</th>\n",
              "      <th>author</th>\n",
              "      <th>text</th>\n",
              "      <th>label</th>\n",
              "    </tr>\n",
              "  </thead>\n",
              "  <tbody>\n",
              "    <tr>\n",
              "      <th>0</th>\n",
              "      <td>0</td>\n",
              "      <td>House Dem Aide: We Didn’t Even See Comey’s Let...</td>\n",
              "      <td>Darrell Lucus</td>\n",
              "      <td>House Dem Aide: We Didn’t Even See Comey’s Let...</td>\n",
              "      <td>1</td>\n",
              "    </tr>\n",
              "    <tr>\n",
              "      <th>1</th>\n",
              "      <td>1</td>\n",
              "      <td>FLYNN: Hillary Clinton, Big Woman on Campus - ...</td>\n",
              "      <td>Daniel J. Flynn</td>\n",
              "      <td>Ever get the feeling your life circles the rou...</td>\n",
              "      <td>0</td>\n",
              "    </tr>\n",
              "    <tr>\n",
              "      <th>2</th>\n",
              "      <td>2</td>\n",
              "      <td>Why the Truth Might Get You Fired</td>\n",
              "      <td>Consortiumnews.com</td>\n",
              "      <td>Why the Truth Might Get You Fired October 29, ...</td>\n",
              "      <td>1</td>\n",
              "    </tr>\n",
              "    <tr>\n",
              "      <th>3</th>\n",
              "      <td>3</td>\n",
              "      <td>15 Civilians Killed In Single US Airstrike Hav...</td>\n",
              "      <td>Jessica Purkiss</td>\n",
              "      <td>Videos 15 Civilians Killed In Single US Airstr...</td>\n",
              "      <td>1</td>\n",
              "    </tr>\n",
              "    <tr>\n",
              "      <th>4</th>\n",
              "      <td>4</td>\n",
              "      <td>Iranian woman jailed for fictional unpublished...</td>\n",
              "      <td>Howard Portnoy</td>\n",
              "      <td>Print \\nAn Iranian woman has been sentenced to...</td>\n",
              "      <td>1</td>\n",
              "    </tr>\n",
              "  </tbody>\n",
              "</table>\n",
              "</div>"
            ],
            "text/plain": [
              "   id  ... label\n",
              "0   0  ...     1\n",
              "1   1  ...     0\n",
              "2   2  ...     1\n",
              "3   3  ...     1\n",
              "4   4  ...     1\n",
              "\n",
              "[5 rows x 5 columns]"
            ]
          },
          "metadata": {
            "tags": []
          },
          "execution_count": 8
        }
      ]
    },
    {
      "cell_type": "code",
      "metadata": {
        "colab": {
          "base_uri": "https://localhost:8080/",
          "height": 191
        },
        "id": "w7OPe3VplFZn",
        "outputId": "1df6d0fb-0fe4-4ee0-bc12-07fdf8a960f1"
      },
      "source": [
        "test_df_1.head()"
      ],
      "execution_count": 9,
      "outputs": [
        {
          "output_type": "execute_result",
          "data": {
            "text/html": [
              "<div>\n",
              "<style scoped>\n",
              "    .dataframe tbody tr th:only-of-type {\n",
              "        vertical-align: middle;\n",
              "    }\n",
              "\n",
              "    .dataframe tbody tr th {\n",
              "        vertical-align: top;\n",
              "    }\n",
              "\n",
              "    .dataframe thead th {\n",
              "        text-align: right;\n",
              "    }\n",
              "</style>\n",
              "<table border=\"1\" class=\"dataframe\">\n",
              "  <thead>\n",
              "    <tr style=\"text-align: right;\">\n",
              "      <th></th>\n",
              "      <th>id</th>\n",
              "      <th>title</th>\n",
              "      <th>author</th>\n",
              "      <th>text</th>\n",
              "    </tr>\n",
              "  </thead>\n",
              "  <tbody>\n",
              "    <tr>\n",
              "      <th>0</th>\n",
              "      <td>20800</td>\n",
              "      <td>Specter of Trump Loosens Tongues, if Not Purse...</td>\n",
              "      <td>David Streitfeld</td>\n",
              "      <td>PALO ALTO, Calif.  —   After years of scorning...</td>\n",
              "    </tr>\n",
              "    <tr>\n",
              "      <th>1</th>\n",
              "      <td>20801</td>\n",
              "      <td>Russian warships ready to strike terrorists ne...</td>\n",
              "      <td>NaN</td>\n",
              "      <td>Russian warships ready to strike terrorists ne...</td>\n",
              "    </tr>\n",
              "    <tr>\n",
              "      <th>2</th>\n",
              "      <td>20802</td>\n",
              "      <td>#NoDAPL: Native American Leaders Vow to Stay A...</td>\n",
              "      <td>Common Dreams</td>\n",
              "      <td>Videos #NoDAPL: Native American Leaders Vow to...</td>\n",
              "    </tr>\n",
              "    <tr>\n",
              "      <th>3</th>\n",
              "      <td>20803</td>\n",
              "      <td>Tim Tebow Will Attempt Another Comeback, This ...</td>\n",
              "      <td>Daniel Victor</td>\n",
              "      <td>If at first you don’t succeed, try a different...</td>\n",
              "    </tr>\n",
              "    <tr>\n",
              "      <th>4</th>\n",
              "      <td>20804</td>\n",
              "      <td>Keiser Report: Meme Wars (E995)</td>\n",
              "      <td>Truth Broadcast Network</td>\n",
              "      <td>42 mins ago 1 Views 0 Comments 0 Likes 'For th...</td>\n",
              "    </tr>\n",
              "  </tbody>\n",
              "</table>\n",
              "</div>"
            ],
            "text/plain": [
              "      id  ...                                               text\n",
              "0  20800  ...  PALO ALTO, Calif.  —   After years of scorning...\n",
              "1  20801  ...  Russian warships ready to strike terrorists ne...\n",
              "2  20802  ...  Videos #NoDAPL: Native American Leaders Vow to...\n",
              "3  20803  ...  If at first you don’t succeed, try a different...\n",
              "4  20804  ...  42 mins ago 1 Views 0 Comments 0 Likes 'For th...\n",
              "\n",
              "[5 rows x 4 columns]"
            ]
          },
          "metadata": {
            "tags": []
          },
          "execution_count": 9
        }
      ]
    },
    {
      "cell_type": "markdown",
      "metadata": {
        "id": "4YbhGqLWlNju"
      },
      "source": [
        "<h1><b>Data Preprocessing</b></h1>"
      ]
    },
    {
      "cell_type": "code",
      "metadata": {
        "id": "PGOMsrA5lJPa"
      },
      "source": [
        "###Drop Nan Values\n",
        "train_df_1 = train_df_1.dropna()\n",
        "test_df_1 = test_df_1.dropna()"
      ],
      "execution_count": 11,
      "outputs": []
    },
    {
      "cell_type": "code",
      "metadata": {
        "id": "YM2O9eU9nTj7"
      },
      "source": [
        "## Get the Independent Features\n",
        "x = train_df_1.drop('label',axis=1)\n",
        "## Get the Dependent features \n",
        "y = train_df_1['label']"
      ],
      "execution_count": 13,
      "outputs": []
    },
    {
      "cell_type": "code",
      "metadata": {
        "colab": {
          "base_uri": "https://localhost:8080/"
        },
        "id": "tAutweHpo5GO",
        "outputId": "f8b37586-ae66-4bce-c9ce-4bd6e7a29a3e"
      },
      "source": [
        "y.value_counts()"
      ],
      "execution_count": 14,
      "outputs": [
        {
          "output_type": "execute_result",
          "data": {
            "text/plain": [
              "0    10361\n",
              "1     7924\n",
              "Name: label, dtype: int64"
            ]
          },
          "metadata": {
            "tags": []
          },
          "execution_count": 14
        }
      ]
    },
    {
      "cell_type": "code",
      "metadata": {
        "colab": {
          "base_uri": "https://localhost:8080/"
        },
        "id": "1Bb-fmUTpQFp",
        "outputId": "9611aaf7-963f-4234-93ae-7e11c5261fa9"
      },
      "source": [
        "x.shape, y.shape"
      ],
      "execution_count": 16,
      "outputs": [
        {
          "output_type": "execute_result",
          "data": {
            "text/plain": [
              "((18285, 4), (18285,))"
            ]
          },
          "metadata": {
            "tags": []
          },
          "execution_count": 16
        }
      ]
    },
    {
      "cell_type": "code",
      "metadata": {
        "id": "dB17VyKPpUsA"
      },
      "source": [
        "import tensorflow as tf"
      ],
      "execution_count": 17,
      "outputs": []
    },
    {
      "cell_type": "code",
      "metadata": {
        "colab": {
          "base_uri": "https://localhost:8080/",
          "height": 35
        },
        "id": "t_zZv_EQphvt",
        "outputId": "ffaf170d-2675-464a-add3-e0c7d86dc915"
      },
      "source": [
        "tf.__version__"
      ],
      "execution_count": 18,
      "outputs": [
        {
          "output_type": "execute_result",
          "data": {
            "application/vnd.google.colaboratory.intrinsic+json": {
              "type": "string"
            },
            "text/plain": [
              "'2.4.1'"
            ]
          },
          "metadata": {
            "tags": []
          },
          "execution_count": 18
        }
      ]
    },
    {
      "cell_type": "code",
      "metadata": {
        "id": "v-B_nXqppkNn"
      },
      "source": [
        "from tensorflow.keras.layers import Embedding,LSTM, Dense, Bidirectional, Dropout\n",
        "from tensorflow.keras.preprocessing.sequence import pad_sequences\n",
        "from tensorflow.keras.models import Sequential\n",
        "from tensorflow.keras.preprocessing.text import one_hot"
      ],
      "execution_count": 19,
      "outputs": []
    },
    {
      "cell_type": "markdown",
      "metadata": {
        "id": "346p91VCqhpq"
      },
      "source": [
        "<h><b>Onehot Representation</b></h>"
      ]
    },
    {
      "cell_type": "code",
      "metadata": {
        "id": "RuAcupMoqgrK"
      },
      "source": [
        "msg = x.copy()"
      ],
      "execution_count": 21,
      "outputs": []
    },
    {
      "cell_type": "code",
      "metadata": {
        "colab": {
          "base_uri": "https://localhost:8080/",
          "height": 35
        },
        "id": "7YNh3Jlyrtqd",
        "outputId": "9a71b4da-1a6e-4e79-89b9-b53242b1e88f"
      },
      "source": [
        "msg['title'][1]"
      ],
      "execution_count": 22,
      "outputs": [
        {
          "output_type": "execute_result",
          "data": {
            "application/vnd.google.colaboratory.intrinsic+json": {
              "type": "string"
            },
            "text/plain": [
              "'FLYNN: Hillary Clinton, Big Woman on Campus - Breitbart'"
            ]
          },
          "metadata": {
            "tags": []
          },
          "execution_count": 22
        }
      ]
    },
    {
      "cell_type": "code",
      "metadata": {
        "id": "yvJIPua1r3Y5"
      },
      "source": [
        "msg.reset_index(inplace=True)"
      ],
      "execution_count": 23,
      "outputs": []
    },
    {
      "cell_type": "code",
      "metadata": {
        "id": "1RXY5B4Nr_VC"
      },
      "source": [
        "import nltk \n",
        "import re \n",
        "from nltk.corpus import stopwords"
      ],
      "execution_count": 24,
      "outputs": []
    },
    {
      "cell_type": "code",
      "metadata": {
        "colab": {
          "base_uri": "https://localhost:8080/"
        },
        "id": "ijPQ89SNsLyK",
        "outputId": "37379a79-1822-4132-e3f8-f5cbeefc46d7"
      },
      "source": [
        "nltk.download('stopwords')"
      ],
      "execution_count": 25,
      "outputs": [
        {
          "output_type": "stream",
          "text": [
            "[nltk_data] Downloading package stopwords to /root/nltk_data...\n",
            "[nltk_data]   Unzipping corpora/stopwords.zip.\n"
          ],
          "name": "stdout"
        },
        {
          "output_type": "execute_result",
          "data": {
            "text/plain": [
              "True"
            ]
          },
          "metadata": {
            "tags": []
          },
          "execution_count": 25
        }
      ]
    },
    {
      "cell_type": "code",
      "metadata": {
        "id": "nfrnAu3KsVR6"
      },
      "source": [
        "# PorterStemmer is used to convert different form of words into it's root form\n",
        "from nltk.stem.porter import PorterStemmer  \n",
        "ps = PorterStemmer()\n",
        "corpus = []      # collection of words\n",
        "for i in range(0, len(msg)):\n",
        "    #print(i)\n",
        "    review = re.sub('[^a-zA-Z]', ' ', msg['title'][i])\n",
        "    review = review.lower()\n",
        "    review = review.split()\n",
        "\n",
        "    review = [ ps.stem(word) for word in review if not word in stopwords.words('english') ]\n",
        "    review = ' '.join(review)\n",
        "    corpus.append(review)"
      ],
      "execution_count": 27,
      "outputs": []
    },
    {
      "cell_type": "code",
      "metadata": {
        "colab": {
          "base_uri": "https://localhost:8080/"
        },
        "id": "CMD1j_uRxDmk",
        "outputId": "5eda2ea4-d372-4d00-cfbd-a07eaa69d0df"
      },
      "source": [
        "corpus[:5]"
      ],
      "execution_count": 28,
      "outputs": [
        {
          "output_type": "execute_result",
          "data": {
            "text/plain": [
              "['hous dem aid even see comey letter jason chaffetz tweet',\n",
              " 'flynn hillari clinton big woman campu breitbart',\n",
              " 'truth might get fire',\n",
              " 'civilian kill singl us airstrik identifi',\n",
              " 'iranian woman jail fiction unpublish stori woman stone death adulteri']"
            ]
          },
          "metadata": {
            "tags": []
          },
          "execution_count": 28
        }
      ]
    },
    {
      "cell_type": "code",
      "metadata": {
        "id": "2-PtFoObqZ9e"
      },
      "source": [
        "# vocabulary size\n",
        "voc_size = 5000"
      ],
      "execution_count": 20,
      "outputs": []
    },
    {
      "cell_type": "code",
      "metadata": {
        "colab": {
          "base_uri": "https://localhost:8080/"
        },
        "id": "8LZJ8BtRxe9V",
        "outputId": "155f9fbc-a2fc-4c03-efea-710b5cd56be1"
      },
      "source": [
        "onehot_repr = [one_hot(words,voc_size) for words in corpus]\n",
        "onehot_repr[:5]"
      ],
      "execution_count": 30,
      "outputs": [
        {
          "output_type": "execute_result",
          "data": {
            "text/plain": [
              "[[3895, 4023, 973, 3523, 2425, 4646, 2395, 1531, 1737, 4546],\n",
              " [1584, 347, 2604, 345, 3573, 3355, 102],\n",
              " [3299, 2662, 4090, 4371],\n",
              " [2699, 4309, 653, 559, 2709, 4820],\n",
              " [855, 3573, 4261, 3001, 1876, 4292, 3573, 1343, 3185, 2441]]"
            ]
          },
          "metadata": {
            "tags": []
          },
          "execution_count": 30
        }
      ]
    },
    {
      "cell_type": "markdown",
      "metadata": {
        "id": "4KQfZW_JyIpF"
      },
      "source": [
        "<h><b>Embedding Representation</b></h>"
      ]
    },
    {
      "cell_type": "code",
      "metadata": {
        "colab": {
          "base_uri": "https://localhost:8080/"
        },
        "id": "aEigsLLdxyVu",
        "outputId": "c54ee1aa-fab0-4fb4-b81e-cac7cf03ec5c"
      },
      "source": [
        "\n",
        "max_len = 0\n",
        "for i in onehot_repr:\n",
        "    if len(i) > max_len:\n",
        "        max_len = len(i)\n",
        "print(max_len)\n",
        "\n",
        "sent_len = max_len"
      ],
      "execution_count": 33,
      "outputs": [
        {
          "output_type": "stream",
          "text": [
            "47\n"
          ],
          "name": "stdout"
        }
      ]
    },
    {
      "cell_type": "code",
      "metadata": {
        "colab": {
          "base_uri": "https://localhost:8080/"
        },
        "id": "Ferh1ayzzPYk",
        "outputId": "d0cd663d-2cd1-4467-b8ab-54313ff580f8"
      },
      "source": [
        "embedded_docs = pad_sequences(onehot_repr, padding='pre',maxlen=sent_len)\n",
        "print(embedded_docs)"
      ],
      "execution_count": 34,
      "outputs": [
        {
          "output_type": "stream",
          "text": [
            "[[   0    0    0 ... 1531 1737 4546]\n",
            " [   0    0    0 ... 3573 3355  102]\n",
            " [   0    0    0 ... 2662 4090 4371]\n",
            " ...\n",
            " [   0    0    0 ...  474 1497 2741]\n",
            " [   0    0    0 ... 2556 2333 4669]\n",
            " [   0    0    0 ... 3421 2613 1832]]\n"
          ],
          "name": "stdout"
        }
      ]
    },
    {
      "cell_type": "code",
      "metadata": {
        "colab": {
          "base_uri": "https://localhost:8080/"
        },
        "id": "TI24430a0FE3",
        "outputId": "4882e286-7291-4b9b-b43b-e4b55814fac9"
      },
      "source": [
        "embedded_docs[0]"
      ],
      "execution_count": 35,
      "outputs": [
        {
          "output_type": "execute_result",
          "data": {
            "text/plain": [
              "array([   0,    0,    0,    0,    0,    0,    0,    0,    0,    0,    0,\n",
              "          0,    0,    0,    0,    0,    0,    0,    0,    0,    0,    0,\n",
              "          0,    0,    0,    0,    0,    0,    0,    0,    0,    0,    0,\n",
              "          0,    0,    0,    0, 3895, 4023,  973, 3523, 2425, 4646, 2395,\n",
              "       1531, 1737, 4546], dtype=int32)"
            ]
          },
          "metadata": {
            "tags": []
          },
          "execution_count": 35
        }
      ]
    },
    {
      "cell_type": "markdown",
      "metadata": {
        "id": "FPcVdr8H0caC"
      },
      "source": [
        "<h2><b>Creating model</b></h2>"
      ]
    },
    {
      "cell_type": "markdown",
      "metadata": {
        "id": "7ItPsDYB4ByS"
      },
      "source": [
        "In natural language processing (NLP), Word embedding is a term used for the representation of words for text analysis, typically in the form of a real-valued vector that encodes the meaning of the word such that the words that are closer in the vector space are expected to be similar in meaning"
      ]
    },
    {
      "cell_type": "code",
      "metadata": {
        "id": "iMNL8e5O0KdS"
      },
      "source": [
        "embedding_vector_features = 40\n",
        "model = Sequential()\n",
        "model.add(Embedding(voc_size, embedding_vector_features,input_length=sent_len))\n",
        "model.add(LSTM(100))\n",
        "model.add(Dense(1,activation='sigmoid'))"
      ],
      "execution_count": 37,
      "outputs": []
    },
    {
      "cell_type": "code",
      "metadata": {
        "id": "zFzGLob_1uEG"
      },
      "source": [
        "model.compile(loss='binary_crossentropy', optimizer='adam', metrics=['accuracy'])"
      ],
      "execution_count": 38,
      "outputs": []
    },
    {
      "cell_type": "code",
      "metadata": {
        "colab": {
          "base_uri": "https://localhost:8080/"
        },
        "id": "jsg1P4bk5Cxo",
        "outputId": "f6e09d2b-e06a-409d-bd29-bc1a265f3c29"
      },
      "source": [
        "model.summary()"
      ],
      "execution_count": 39,
      "outputs": [
        {
          "output_type": "stream",
          "text": [
            "Model: \"sequential_1\"\n",
            "_________________________________________________________________\n",
            "Layer (type)                 Output Shape              Param #   \n",
            "=================================================================\n",
            "embedding (Embedding)        (None, 47, 40)            200000    \n",
            "_________________________________________________________________\n",
            "lstm (LSTM)                  (None, 100)               56400     \n",
            "_________________________________________________________________\n",
            "dense (Dense)                (None, 1)                 101       \n",
            "=================================================================\n",
            "Total params: 256,501\n",
            "Trainable params: 256,501\n",
            "Non-trainable params: 0\n",
            "_________________________________________________________________\n"
          ],
          "name": "stdout"
        }
      ]
    },
    {
      "cell_type": "code",
      "metadata": {
        "colab": {
          "base_uri": "https://localhost:8080/"
        },
        "id": "jvtwg2mo5E_J",
        "outputId": "34c92bad-4c20-4640-cdd5-ac7065cab191"
      },
      "source": [
        "len(embedded_docs), y.shape"
      ],
      "execution_count": 41,
      "outputs": [
        {
          "output_type": "execute_result",
          "data": {
            "text/plain": [
              "(18285, (18285,))"
            ]
          },
          "metadata": {
            "tags": []
          },
          "execution_count": 41
        }
      ]
    },
    {
      "cell_type": "code",
      "metadata": {
        "id": "F2fR467w5HZ8"
      },
      "source": [
        "import numpy as np\n",
        "x_final = np.array(embedded_docs)\n",
        "y_final = np.array(y)"
      ],
      "execution_count": 42,
      "outputs": []
    },
    {
      "cell_type": "code",
      "metadata": {
        "colab": {
          "base_uri": "https://localhost:8080/"
        },
        "id": "6J43vf_X5wda",
        "outputId": "c61f18db-b94b-4c46-f8ae-3500c535afe8"
      },
      "source": [
        "x_final"
      ],
      "execution_count": 43,
      "outputs": [
        {
          "output_type": "execute_result",
          "data": {
            "text/plain": [
              "array([[   0,    0,    0, ..., 1531, 1737, 4546],\n",
              "       [   0,    0,    0, ..., 3573, 3355,  102],\n",
              "       [   0,    0,    0, ..., 2662, 4090, 4371],\n",
              "       ...,\n",
              "       [   0,    0,    0, ...,  474, 1497, 2741],\n",
              "       [   0,    0,    0, ..., 2556, 2333, 4669],\n",
              "       [   0,    0,    0, ..., 3421, 2613, 1832]], dtype=int32)"
            ]
          },
          "metadata": {
            "tags": []
          },
          "execution_count": 43
        }
      ]
    },
    {
      "cell_type": "code",
      "metadata": {
        "colab": {
          "base_uri": "https://localhost:8080/"
        },
        "id": "OaeYR9ON5HjF",
        "outputId": "563b0fdc-0666-4732-e9bf-81b0f51e082a"
      },
      "source": [
        "y_final"
      ],
      "execution_count": 45,
      "outputs": [
        {
          "output_type": "execute_result",
          "data": {
            "text/plain": [
              "array([1, 0, 1, ..., 0, 1, 1])"
            ]
          },
          "metadata": {
            "tags": []
          },
          "execution_count": 45
        }
      ]
    },
    {
      "cell_type": "code",
      "metadata": {
        "colab": {
          "base_uri": "https://localhost:8080/"
        },
        "id": "ZabaWMy55HeG",
        "outputId": "426dc80b-2e6c-4485-c381-c07a615505d1"
      },
      "source": [
        "x_final.shape, y_final.shape"
      ],
      "execution_count": 46,
      "outputs": [
        {
          "output_type": "execute_result",
          "data": {
            "text/plain": [
              "((18285, 47), (18285,))"
            ]
          },
          "metadata": {
            "tags": []
          },
          "execution_count": 46
        }
      ]
    },
    {
      "cell_type": "markdown",
      "metadata": {
        "id": "LNdnaJ6d6H-U"
      },
      "source": [
        "<h1><b>Model Training</b></h>"
      ]
    },
    {
      "cell_type": "code",
      "metadata": {
        "colab": {
          "base_uri": "https://localhost:8080/"
        },
        "id": "w-wPhifS5HoD",
        "outputId": "a330c2ee-a3e6-4b0d-d3de-a9ba566bcd41"
      },
      "source": [
        "# Finally Training\n",
        "model.fit(x_final, y_final, validation_split=0.3, epochs=10, batch_size=64)"
      ],
      "execution_count": 47,
      "outputs": [
        {
          "output_type": "stream",
          "text": [
            "Epoch 1/10\n",
            "200/200 [==============================] - 13s 57ms/step - loss: 0.4679 - accuracy: 0.7739 - val_loss: 0.2061 - val_accuracy: 0.9089\n",
            "Epoch 2/10\n",
            "200/200 [==============================] - 11s 53ms/step - loss: 0.1337 - accuracy: 0.9470 - val_loss: 0.2040 - val_accuracy: 0.9167\n",
            "Epoch 3/10\n",
            "200/200 [==============================] - 11s 54ms/step - loss: 0.0831 - accuracy: 0.9703 - val_loss: 0.2421 - val_accuracy: 0.9141\n",
            "Epoch 4/10\n",
            "200/200 [==============================] - 11s 54ms/step - loss: 0.0506 - accuracy: 0.9840 - val_loss: 0.2730 - val_accuracy: 0.9072\n",
            "Epoch 5/10\n",
            "200/200 [==============================] - 11s 54ms/step - loss: 0.0244 - accuracy: 0.9931 - val_loss: 0.3442 - val_accuracy: 0.9123\n",
            "Epoch 6/10\n",
            "200/200 [==============================] - 11s 55ms/step - loss: 0.0110 - accuracy: 0.9973 - val_loss: 0.3853 - val_accuracy: 0.9056\n",
            "Epoch 7/10\n",
            "200/200 [==============================] - 11s 55ms/step - loss: 0.0069 - accuracy: 0.9991 - val_loss: 0.4552 - val_accuracy: 0.9025\n",
            "Epoch 8/10\n",
            "200/200 [==============================] - 11s 54ms/step - loss: 0.0046 - accuracy: 0.9995 - val_loss: 0.5497 - val_accuracy: 0.9090\n",
            "Epoch 9/10\n",
            "200/200 [==============================] - 11s 53ms/step - loss: 0.0016 - accuracy: 0.9996 - val_loss: 0.6443 - val_accuracy: 0.9074\n",
            "Epoch 10/10\n",
            "200/200 [==============================] - 11s 53ms/step - loss: 6.6512e-04 - accuracy: 0.9998 - val_loss: 0.6798 - val_accuracy: 0.9038\n"
          ],
          "name": "stdout"
        },
        {
          "output_type": "execute_result",
          "data": {
            "text/plain": [
              "<tensorflow.python.keras.callbacks.History at 0x7f777ebd9d50>"
            ]
          },
          "metadata": {
            "tags": []
          },
          "execution_count": 47
        }
      ]
    },
    {
      "cell_type": "markdown",
      "metadata": {
        "id": "34yl4YOG7J-3"
      },
      "source": [
        "<h1><b>Performance Metrics And Accuracy</b></h>"
      ]
    },
    {
      "cell_type": "code",
      "metadata": {
        "id": "nRxThroX9SDQ"
      },
      "source": [
        "def preprocessing_func(x):\n",
        "    msg = x.copy()\n",
        "    msg.reset_index(inplace=True) \n",
        "    ps = PorterStemmer()\n",
        "    corpus = []      # collection of words\n",
        "    for i in range(0, len(msg)):\n",
        "        review = re.sub('[^a-zA-Z]', ' ', msg['title'][i])\n",
        "        review = review.lower().split()\n",
        "        review = [ ps.stem(word) for word in review if not word in stopwords.words('english') ]\n",
        "        review = ' '.join(review)\n",
        "        corpus.append(review)\n",
        "        \n",
        "    voc_size = 5000\n",
        "    onehot_repr = [one_hot(words,voc_size) for words in corpus]\n",
        "    embedded_docs = pad_sequences(onehot_repr, padding='pre',maxlen=sent_len)\n",
        "    x_final = np.array(embedded_docs)\n",
        "    return x_final"
      ],
      "execution_count": 54,
      "outputs": []
    },
    {
      "cell_type": "code",
      "metadata": {
        "id": "rVHQaeLG88sd"
      },
      "source": [
        "x_test_final = preprocessing_func(test_df_1)"
      ],
      "execution_count": 55,
      "outputs": []
    },
    {
      "cell_type": "code",
      "metadata": {
        "id": "8vVBFBPr_bPV",
        "outputId": "78ad32e4-7222-4bc4-ba21-073a4d1b0814",
        "colab": {
          "base_uri": "https://localhost:8080/"
        }
      },
      "source": [
        "x_test_final"
      ],
      "execution_count": 56,
      "outputs": [
        {
          "output_type": "execute_result",
          "data": {
            "text/plain": [
              "array([[   0,    0,    0, ...,  474, 1497, 2741],\n",
              "       [   0,    0,    0, ..., 1696, 1231, 2372],\n",
              "       [   0,    0,    0, ...,  474, 1497, 2741],\n",
              "       ...,\n",
              "       [   0,    0,    0, ...,  474, 1497, 2741],\n",
              "       [   0,    0,    0, ...,  474, 1497, 2741],\n",
              "       [   0,    0,    0, ...,  474, 1497, 2741]], dtype=int32)"
            ]
          },
          "metadata": {
            "tags": []
          },
          "execution_count": 56
        }
      ]
    },
    {
      "cell_type": "code",
      "metadata": {
        "id": "Mdftizyo5HuO"
      },
      "source": [
        "y_pred = np.argmax(model.predict(x_test_final), axis=-1)"
      ],
      "execution_count": 57,
      "outputs": []
    },
    {
      "cell_type": "code",
      "metadata": {
        "id": "uJbjUIsM7fRP"
      },
      "source": [
        ""
      ],
      "execution_count": null,
      "outputs": []
    }
  ]
}