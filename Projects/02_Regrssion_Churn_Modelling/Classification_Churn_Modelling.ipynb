{
  "nbformat": 4,
  "nbformat_minor": 0,
  "metadata": {
    "colab": {
      "name": "Practice_01.ipynb",
      "provenance": [],
      "authorship_tag": "ABX9TyNORsVvtAXuuc6RnaEDwyJ0",
      "include_colab_link": true
    },
    "kernelspec": {
      "name": "python3",
      "display_name": "Python 3"
    },
    "language_info": {
      "name": "python"
    }
  },
  "cells": [
    {
      "cell_type": "markdown",
      "metadata": {
        "id": "view-in-github",
        "colab_type": "text"
      },
      "source": [
        "<a href=\"https://colab.research.google.com/github/pvidya11/Deep_Learning/blob/main/Practice_01.ipynb\" target=\"_parent\"><img src=\"https://colab.research.google.com/assets/colab-badge.svg\" alt=\"Open In Colab\"/></a>"
      ]
    },
    {
      "cell_type": "code",
      "metadata": {
        "id": "qH5zXX7Ei1W4"
      },
      "source": [
        ""
      ],
      "execution_count": null,
      "outputs": []
    },
    {
      "cell_type": "code",
      "metadata": {
        "id": "vXiAIehHoxml"
      },
      "source": [
        "import numpy as np\n",
        "import pandas as pd\n",
        "import tensorflow as tf\n",
        "from tensorflow import keras"
      ],
      "execution_count": 3,
      "outputs": []
    },
    {
      "cell_type": "code",
      "metadata": {
        "id": "tnqlXOAHpBwe"
      },
      "source": [
        "df=pd.read_csv('https://raw.githubusercontent.com/krishnaik06/Complete-Deep-Learning/master/ANN/Churn_Modelling.csv')"
      ],
      "execution_count": 5,
      "outputs": []
    },
    {
      "cell_type": "code",
      "metadata": {
        "id": "McO2Kb6J-zCU",
        "outputId": "61e5bda3-bf3e-4b76-ccfd-7a1b5de27b45",
        "colab": {
          "base_uri": "https://localhost:8080/",
          "height": 224
        }
      },
      "source": [
        "df.head()"
      ],
      "execution_count": 6,
      "outputs": [
        {
          "output_type": "execute_result",
          "data": {
            "text/html": [
              "<div>\n",
              "<style scoped>\n",
              "    .dataframe tbody tr th:only-of-type {\n",
              "        vertical-align: middle;\n",
              "    }\n",
              "\n",
              "    .dataframe tbody tr th {\n",
              "        vertical-align: top;\n",
              "    }\n",
              "\n",
              "    .dataframe thead th {\n",
              "        text-align: right;\n",
              "    }\n",
              "</style>\n",
              "<table border=\"1\" class=\"dataframe\">\n",
              "  <thead>\n",
              "    <tr style=\"text-align: right;\">\n",
              "      <th></th>\n",
              "      <th>RowNumber</th>\n",
              "      <th>CustomerId</th>\n",
              "      <th>Surname</th>\n",
              "      <th>CreditScore</th>\n",
              "      <th>Geography</th>\n",
              "      <th>Gender</th>\n",
              "      <th>Age</th>\n",
              "      <th>Tenure</th>\n",
              "      <th>Balance</th>\n",
              "      <th>NumOfProducts</th>\n",
              "      <th>HasCrCard</th>\n",
              "      <th>IsActiveMember</th>\n",
              "      <th>EstimatedSalary</th>\n",
              "      <th>Exited</th>\n",
              "    </tr>\n",
              "  </thead>\n",
              "  <tbody>\n",
              "    <tr>\n",
              "      <th>0</th>\n",
              "      <td>1</td>\n",
              "      <td>15634602</td>\n",
              "      <td>Hargrave</td>\n",
              "      <td>619</td>\n",
              "      <td>France</td>\n",
              "      <td>Female</td>\n",
              "      <td>42</td>\n",
              "      <td>2</td>\n",
              "      <td>0.00</td>\n",
              "      <td>1</td>\n",
              "      <td>1</td>\n",
              "      <td>1</td>\n",
              "      <td>101348.88</td>\n",
              "      <td>1</td>\n",
              "    </tr>\n",
              "    <tr>\n",
              "      <th>1</th>\n",
              "      <td>2</td>\n",
              "      <td>15647311</td>\n",
              "      <td>Hill</td>\n",
              "      <td>608</td>\n",
              "      <td>Spain</td>\n",
              "      <td>Female</td>\n",
              "      <td>41</td>\n",
              "      <td>1</td>\n",
              "      <td>83807.86</td>\n",
              "      <td>1</td>\n",
              "      <td>0</td>\n",
              "      <td>1</td>\n",
              "      <td>112542.58</td>\n",
              "      <td>0</td>\n",
              "    </tr>\n",
              "    <tr>\n",
              "      <th>2</th>\n",
              "      <td>3</td>\n",
              "      <td>15619304</td>\n",
              "      <td>Onio</td>\n",
              "      <td>502</td>\n",
              "      <td>France</td>\n",
              "      <td>Female</td>\n",
              "      <td>42</td>\n",
              "      <td>8</td>\n",
              "      <td>159660.80</td>\n",
              "      <td>3</td>\n",
              "      <td>1</td>\n",
              "      <td>0</td>\n",
              "      <td>113931.57</td>\n",
              "      <td>1</td>\n",
              "    </tr>\n",
              "    <tr>\n",
              "      <th>3</th>\n",
              "      <td>4</td>\n",
              "      <td>15701354</td>\n",
              "      <td>Boni</td>\n",
              "      <td>699</td>\n",
              "      <td>France</td>\n",
              "      <td>Female</td>\n",
              "      <td>39</td>\n",
              "      <td>1</td>\n",
              "      <td>0.00</td>\n",
              "      <td>2</td>\n",
              "      <td>0</td>\n",
              "      <td>0</td>\n",
              "      <td>93826.63</td>\n",
              "      <td>0</td>\n",
              "    </tr>\n",
              "    <tr>\n",
              "      <th>4</th>\n",
              "      <td>5</td>\n",
              "      <td>15737888</td>\n",
              "      <td>Mitchell</td>\n",
              "      <td>850</td>\n",
              "      <td>Spain</td>\n",
              "      <td>Female</td>\n",
              "      <td>43</td>\n",
              "      <td>2</td>\n",
              "      <td>125510.82</td>\n",
              "      <td>1</td>\n",
              "      <td>1</td>\n",
              "      <td>1</td>\n",
              "      <td>79084.10</td>\n",
              "      <td>0</td>\n",
              "    </tr>\n",
              "  </tbody>\n",
              "</table>\n",
              "</div>"
            ],
            "text/plain": [
              "   RowNumber  CustomerId   Surname  ...  IsActiveMember EstimatedSalary Exited\n",
              "0          1    15634602  Hargrave  ...               1       101348.88      1\n",
              "1          2    15647311      Hill  ...               1       112542.58      0\n",
              "2          3    15619304      Onio  ...               0       113931.57      1\n",
              "3          4    15701354      Boni  ...               0        93826.63      0\n",
              "4          5    15737888  Mitchell  ...               1        79084.10      0\n",
              "\n",
              "[5 rows x 14 columns]"
            ]
          },
          "metadata": {
            "tags": []
          },
          "execution_count": 6
        }
      ]
    },
    {
      "cell_type": "code",
      "metadata": {
        "id": "HeB6C65l_Wjf",
        "outputId": "cff70bcd-4026-4bba-cbc4-0729b989b664",
        "colab": {
          "base_uri": "https://localhost:8080/"
        }
      },
      "source": [
        "df.columns"
      ],
      "execution_count": 7,
      "outputs": [
        {
          "output_type": "execute_result",
          "data": {
            "text/plain": [
              "Index(['RowNumber', 'CustomerId', 'Surname', 'CreditScore', 'Geography',\n",
              "       'Gender', 'Age', 'Tenure', 'Balance', 'NumOfProducts', 'HasCrCard',\n",
              "       'IsActiveMember', 'EstimatedSalary', 'Exited'],\n",
              "      dtype='object')"
            ]
          },
          "metadata": {
            "tags": []
          },
          "execution_count": 7
        }
      ]
    },
    {
      "cell_type": "code",
      "metadata": {
        "id": "7vG8GbmP_cgW",
        "outputId": "1ec88cd2-fce6-4407-91d1-e10e38b47ee9",
        "colab": {
          "base_uri": "https://localhost:8080/"
        }
      },
      "source": [
        "df.shape"
      ],
      "execution_count": 8,
      "outputs": [
        {
          "output_type": "execute_result",
          "data": {
            "text/plain": [
              "(10000, 14)"
            ]
          },
          "metadata": {
            "tags": []
          },
          "execution_count": 8
        }
      ]
    },
    {
      "cell_type": "code",
      "metadata": {
        "id": "GqGJflwI_gYG",
        "outputId": "dd6c16d1-4df5-4e0b-a8b7-782fcd130bb0",
        "colab": {
          "base_uri": "https://localhost:8080/",
          "height": 317
        }
      },
      "source": [
        "df.describe()"
      ],
      "execution_count": 12,
      "outputs": [
        {
          "output_type": "execute_result",
          "data": {
            "text/html": [
              "<div>\n",
              "<style scoped>\n",
              "    .dataframe tbody tr th:only-of-type {\n",
              "        vertical-align: middle;\n",
              "    }\n",
              "\n",
              "    .dataframe tbody tr th {\n",
              "        vertical-align: top;\n",
              "    }\n",
              "\n",
              "    .dataframe thead th {\n",
              "        text-align: right;\n",
              "    }\n",
              "</style>\n",
              "<table border=\"1\" class=\"dataframe\">\n",
              "  <thead>\n",
              "    <tr style=\"text-align: right;\">\n",
              "      <th></th>\n",
              "      <th>RowNumber</th>\n",
              "      <th>CustomerId</th>\n",
              "      <th>CreditScore</th>\n",
              "      <th>Age</th>\n",
              "      <th>Tenure</th>\n",
              "      <th>Balance</th>\n",
              "      <th>NumOfProducts</th>\n",
              "      <th>HasCrCard</th>\n",
              "      <th>IsActiveMember</th>\n",
              "      <th>EstimatedSalary</th>\n",
              "      <th>Exited</th>\n",
              "    </tr>\n",
              "  </thead>\n",
              "  <tbody>\n",
              "    <tr>\n",
              "      <th>count</th>\n",
              "      <td>10000.00000</td>\n",
              "      <td>1.000000e+04</td>\n",
              "      <td>10000.000000</td>\n",
              "      <td>10000.000000</td>\n",
              "      <td>10000.000000</td>\n",
              "      <td>10000.000000</td>\n",
              "      <td>10000.000000</td>\n",
              "      <td>10000.00000</td>\n",
              "      <td>10000.000000</td>\n",
              "      <td>10000.000000</td>\n",
              "      <td>10000.000000</td>\n",
              "    </tr>\n",
              "    <tr>\n",
              "      <th>mean</th>\n",
              "      <td>5000.50000</td>\n",
              "      <td>1.569094e+07</td>\n",
              "      <td>650.528800</td>\n",
              "      <td>38.921800</td>\n",
              "      <td>5.012800</td>\n",
              "      <td>76485.889288</td>\n",
              "      <td>1.530200</td>\n",
              "      <td>0.70550</td>\n",
              "      <td>0.515100</td>\n",
              "      <td>100090.239881</td>\n",
              "      <td>0.203700</td>\n",
              "    </tr>\n",
              "    <tr>\n",
              "      <th>std</th>\n",
              "      <td>2886.89568</td>\n",
              "      <td>7.193619e+04</td>\n",
              "      <td>96.653299</td>\n",
              "      <td>10.487806</td>\n",
              "      <td>2.892174</td>\n",
              "      <td>62397.405202</td>\n",
              "      <td>0.581654</td>\n",
              "      <td>0.45584</td>\n",
              "      <td>0.499797</td>\n",
              "      <td>57510.492818</td>\n",
              "      <td>0.402769</td>\n",
              "    </tr>\n",
              "    <tr>\n",
              "      <th>min</th>\n",
              "      <td>1.00000</td>\n",
              "      <td>1.556570e+07</td>\n",
              "      <td>350.000000</td>\n",
              "      <td>18.000000</td>\n",
              "      <td>0.000000</td>\n",
              "      <td>0.000000</td>\n",
              "      <td>1.000000</td>\n",
              "      <td>0.00000</td>\n",
              "      <td>0.000000</td>\n",
              "      <td>11.580000</td>\n",
              "      <td>0.000000</td>\n",
              "    </tr>\n",
              "    <tr>\n",
              "      <th>25%</th>\n",
              "      <td>2500.75000</td>\n",
              "      <td>1.562853e+07</td>\n",
              "      <td>584.000000</td>\n",
              "      <td>32.000000</td>\n",
              "      <td>3.000000</td>\n",
              "      <td>0.000000</td>\n",
              "      <td>1.000000</td>\n",
              "      <td>0.00000</td>\n",
              "      <td>0.000000</td>\n",
              "      <td>51002.110000</td>\n",
              "      <td>0.000000</td>\n",
              "    </tr>\n",
              "    <tr>\n",
              "      <th>50%</th>\n",
              "      <td>5000.50000</td>\n",
              "      <td>1.569074e+07</td>\n",
              "      <td>652.000000</td>\n",
              "      <td>37.000000</td>\n",
              "      <td>5.000000</td>\n",
              "      <td>97198.540000</td>\n",
              "      <td>1.000000</td>\n",
              "      <td>1.00000</td>\n",
              "      <td>1.000000</td>\n",
              "      <td>100193.915000</td>\n",
              "      <td>0.000000</td>\n",
              "    </tr>\n",
              "    <tr>\n",
              "      <th>75%</th>\n",
              "      <td>7500.25000</td>\n",
              "      <td>1.575323e+07</td>\n",
              "      <td>718.000000</td>\n",
              "      <td>44.000000</td>\n",
              "      <td>7.000000</td>\n",
              "      <td>127644.240000</td>\n",
              "      <td>2.000000</td>\n",
              "      <td>1.00000</td>\n",
              "      <td>1.000000</td>\n",
              "      <td>149388.247500</td>\n",
              "      <td>0.000000</td>\n",
              "    </tr>\n",
              "    <tr>\n",
              "      <th>max</th>\n",
              "      <td>10000.00000</td>\n",
              "      <td>1.581569e+07</td>\n",
              "      <td>850.000000</td>\n",
              "      <td>92.000000</td>\n",
              "      <td>10.000000</td>\n",
              "      <td>250898.090000</td>\n",
              "      <td>4.000000</td>\n",
              "      <td>1.00000</td>\n",
              "      <td>1.000000</td>\n",
              "      <td>199992.480000</td>\n",
              "      <td>1.000000</td>\n",
              "    </tr>\n",
              "  </tbody>\n",
              "</table>\n",
              "</div>"
            ],
            "text/plain": [
              "         RowNumber    CustomerId  ...  EstimatedSalary        Exited\n",
              "count  10000.00000  1.000000e+04  ...     10000.000000  10000.000000\n",
              "mean    5000.50000  1.569094e+07  ...    100090.239881      0.203700\n",
              "std     2886.89568  7.193619e+04  ...     57510.492818      0.402769\n",
              "min        1.00000  1.556570e+07  ...        11.580000      0.000000\n",
              "25%     2500.75000  1.562853e+07  ...     51002.110000      0.000000\n",
              "50%     5000.50000  1.569074e+07  ...    100193.915000      0.000000\n",
              "75%     7500.25000  1.575323e+07  ...    149388.247500      0.000000\n",
              "max    10000.00000  1.581569e+07  ...    199992.480000      1.000000\n",
              "\n",
              "[8 rows x 11 columns]"
            ]
          },
          "metadata": {
            "tags": []
          },
          "execution_count": 12
        }
      ]
    },
    {
      "cell_type": "code",
      "metadata": {
        "id": "mG14Z5Cn_xcv",
        "outputId": "fba04f97-4cc3-429b-c2b2-a7ff74af3791",
        "colab": {
          "base_uri": "https://localhost:8080/"
        }
      },
      "source": [
        "df.info()"
      ],
      "execution_count": 13,
      "outputs": [
        {
          "output_type": "stream",
          "text": [
            "<class 'pandas.core.frame.DataFrame'>\n",
            "RangeIndex: 10000 entries, 0 to 9999\n",
            "Data columns (total 14 columns):\n",
            " #   Column           Non-Null Count  Dtype  \n",
            "---  ------           --------------  -----  \n",
            " 0   RowNumber        10000 non-null  int64  \n",
            " 1   CustomerId       10000 non-null  int64  \n",
            " 2   Surname          10000 non-null  object \n",
            " 3   CreditScore      10000 non-null  int64  \n",
            " 4   Geography        10000 non-null  object \n",
            " 5   Gender           10000 non-null  object \n",
            " 6   Age              10000 non-null  int64  \n",
            " 7   Tenure           10000 non-null  int64  \n",
            " 8   Balance          10000 non-null  float64\n",
            " 9   NumOfProducts    10000 non-null  int64  \n",
            " 10  HasCrCard        10000 non-null  int64  \n",
            " 11  IsActiveMember   10000 non-null  int64  \n",
            " 12  EstimatedSalary  10000 non-null  float64\n",
            " 13  Exited           10000 non-null  int64  \n",
            "dtypes: float64(2), int64(9), object(3)\n",
            "memory usage: 1.1+ MB\n"
          ],
          "name": "stdout"
        }
      ]
    },
    {
      "cell_type": "code",
      "metadata": {
        "id": "wnhg3Lak__fK",
        "outputId": "ff83238d-82a2-4fb4-acf7-4e47c85c3c01",
        "colab": {
          "base_uri": "https://localhost:8080/"
        }
      },
      "source": [
        "Features = df.iloc[:,3:13]\n",
        "Features.shape"
      ],
      "execution_count": 25,
      "outputs": [
        {
          "output_type": "execute_result",
          "data": {
            "text/plain": [
              "(10000, 10)"
            ]
          },
          "metadata": {
            "tags": []
          },
          "execution_count": 25
        }
      ]
    },
    {
      "cell_type": "code",
      "metadata": {
        "id": "jgNjmbLdAtz0",
        "outputId": "caea0f28-de1a-4373-e2c9-cbd6dfdfc6bf",
        "colab": {
          "base_uri": "https://localhost:8080/"
        }
      },
      "source": [
        "Target = df.iloc[:,13]\n",
        "Target.shape"
      ],
      "execution_count": 26,
      "outputs": [
        {
          "output_type": "execute_result",
          "data": {
            "text/plain": [
              "(10000,)"
            ]
          },
          "metadata": {
            "tags": []
          },
          "execution_count": 26
        }
      ]
    },
    {
      "cell_type": "code",
      "metadata": {
        "id": "qex97vG0A4Fn"
      },
      "source": [
        "# To encode categorical data into numerical\n",
        "gender = pd.get_dummies(Features[\"Gender\"],drop_first=True)\n",
        "geography = pd.get_dummies(Features[\"Geography\"],drop_first=True)"
      ],
      "execution_count": 27,
      "outputs": []
    },
    {
      "cell_type": "code",
      "metadata": {
        "id": "PzMRv3reBofn"
      },
      "source": [
        "# to drop caterical feature from Features dataframe.\n",
        "Features = Features.drop([\"Gender\",\"Geography\"],axis=1)"
      ],
      "execution_count": 28,
      "outputs": []
    },
    {
      "cell_type": "code",
      "metadata": {
        "id": "nIke3tFWB9oc"
      },
      "source": [
        "# Concatenate encoded categorical features into Features Dataframe\n",
        "Features = pd.concat([Features,gender,geography],axis=1)"
      ],
      "execution_count": 29,
      "outputs": []
    },
    {
      "cell_type": "code",
      "metadata": {
        "id": "Ncvgjf4XDBoJ",
        "outputId": "09a6571f-eff0-42f4-d7ee-1383d848f475",
        "colab": {
          "base_uri": "https://localhost:8080/"
        }
      },
      "source": [
        "# shape\n",
        "Features.shape"
      ],
      "execution_count": 30,
      "outputs": [
        {
          "output_type": "execute_result",
          "data": {
            "text/plain": [
              "(10000, 11)"
            ]
          },
          "metadata": {
            "tags": []
          },
          "execution_count": 30
        }
      ]
    },
    {
      "cell_type": "code",
      "metadata": {
        "id": "3Jw9giXtDIh8"
      },
      "source": [
        "from sklearn.model_selection import train_test_split\n",
        "x_train, x_test, y_train, y_test = train_test_split(Features,Target,test_size=0.2,random_state=100)"
      ],
      "execution_count": 32,
      "outputs": []
    },
    {
      "cell_type": "code",
      "metadata": {
        "id": "kzoBc0TQDzd4"
      },
      "source": [
        "# preprocessing (Feature scaling) (standardization/ normalization)\n",
        "from sklearn.preprocessing import StandardScaler\n",
        "sc = StandardScaler()\n",
        "x_train = sc.fit_transform(x_train)\n",
        "x_test = sc.transform(x_test)"
      ],
      "execution_count": 33,
      "outputs": []
    },
    {
      "cell_type": "code",
      "metadata": {
        "id": "0dEaE9WeEwsz",
        "outputId": "94618d29-b93f-4bc2-9590-03f4b42a578a",
        "colab": {
          "base_uri": "https://localhost:8080/"
        }
      },
      "source": [
        "x_train[:,1]"
      ],
      "execution_count": 39,
      "outputs": [
        {
          "output_type": "execute_result",
          "data": {
            "text/plain": [
              "array([-0.18423398, -0.2796117 , -0.08885627, ...,  0.38803232,\n",
              "       -0.75650029, -1.42414431])"
            ]
          },
          "metadata": {
            "tags": []
          },
          "execution_count": 39
        }
      ]
    },
    {
      "cell_type": "code",
      "metadata": {
        "id": "lmASZOfXE_uB"
      },
      "source": [
        ""
      ],
      "execution_count": null,
      "outputs": []
    },
    {
      "cell_type": "markdown",
      "metadata": {
        "id": "lfRTvh0bFrS3"
      },
      "source": [
        "<h2>part 2 - Create <b>ANN</b><h2>"
      ]
    },
    {
      "cell_type": "code",
      "metadata": {
        "id": "wRB7hye_F2VE"
      },
      "source": [
        "import tensorflow as tf\n",
        "from tensorflow import keras\n",
        "from keras.models import Sequential\n",
        "from keras.layers import Dense\n",
        "from keras.layers import LeakyReLU,ReLU,ELU\n",
        "from keras.layers import Dropout"
      ],
      "execution_count": 42,
      "outputs": []
    },
    {
      "cell_type": "code",
      "metadata": {
        "id": "YdT9U4G6GqIM"
      },
      "source": [
        "classifier = Sequential()"
      ],
      "execution_count": 43,
      "outputs": []
    },
    {
      "cell_type": "code",
      "metadata": {
        "id": "Ns9ZWe8AHB5s"
      },
      "source": [
        "# H.L 1\n",
        "classifier.add(Dense(units=6, activation=\"relu\", kernel_initializer=\"he_uniform\", input_dim=11))"
      ],
      "execution_count": 44,
      "outputs": []
    },
    {
      "cell_type": "code",
      "metadata": {
        "id": "cziE--TkHqOj"
      },
      "source": [
        "# H.L 2\n",
        "classifier.add(Dense(units=6, activation=\"relu\", kernel_initializer=\"he_uniform\"))"
      ],
      "execution_count": 46,
      "outputs": []
    },
    {
      "cell_type": "code",
      "metadata": {
        "id": "yj4nZvK6H-Zm"
      },
      "source": [
        "# O.L \n",
        "classifier.add(Dense(units=1, activation=\"sigmoid\", kernel_initializer=\"glorot_uniform\"))"
      ],
      "execution_count": 47,
      "outputs": []
    },
    {
      "cell_type": "code",
      "metadata": {
        "id": "nN60_tunIg6c",
        "outputId": "95b9945b-97fd-49e7-9daa-286a48a8f8c2",
        "colab": {
          "base_uri": "https://localhost:8080/"
        }
      },
      "source": [
        "# classifier summary\n",
        "classifier.summary()"
      ],
      "execution_count": 48,
      "outputs": [
        {
          "output_type": "stream",
          "text": [
            "Model: \"sequential\"\n",
            "_________________________________________________________________\n",
            "Layer (type)                 Output Shape              Param #   \n",
            "=================================================================\n",
            "dense (Dense)                (None, 6)                 72        \n",
            "_________________________________________________________________\n",
            "dense_1 (Dense)              (None, 6)                 42        \n",
            "_________________________________________________________________\n",
            "dense_2 (Dense)              (None, 1)                 7         \n",
            "=================================================================\n",
            "Total params: 121\n",
            "Trainable params: 121\n",
            "Non-trainable params: 0\n",
            "_________________________________________________________________\n"
          ],
          "name": "stdout"
        }
      ]
    },
    {
      "cell_type": "code",
      "metadata": {
        "id": "Us6tJstRIpRU"
      },
      "source": [
        "# compiling ANN\n",
        "classifier.compile(optimizer=\"Adam\",loss=\"binary_crossentropy\", metrics=[\"accuracy\"])"
      ],
      "execution_count": 49,
      "outputs": []
    },
    {
      "cell_type": "code",
      "metadata": {
        "id": "m1fp6PVhJYpR",
        "outputId": "80930b65-2028-4e15-f5c1-34a96dd7356f",
        "colab": {
          "base_uri": "https://localhost:8080/"
        }
      },
      "source": [
        "# train model\n",
        "model_history = classifier.fit(x_train, y_train, batch_size=10, epochs=100, validation_split=0.2 )\n"
      ],
      "execution_count": 50,
      "outputs": [
        {
          "output_type": "stream",
          "text": [
            "Epoch 1/100\n",
            "640/640 [==============================] - 2s 2ms/step - loss: 0.6068 - accuracy: 0.6798 - val_loss: 0.4620 - val_accuracy: 0.7956\n",
            "Epoch 2/100\n",
            "640/640 [==============================] - 1s 1ms/step - loss: 0.4593 - accuracy: 0.8009 - val_loss: 0.4425 - val_accuracy: 0.8012\n",
            "Epoch 3/100\n",
            "640/640 [==============================] - 1s 1ms/step - loss: 0.4461 - accuracy: 0.7987 - val_loss: 0.4337 - val_accuracy: 0.8081\n",
            "Epoch 4/100\n",
            "640/640 [==============================] - 1s 1ms/step - loss: 0.4244 - accuracy: 0.8087 - val_loss: 0.4273 - val_accuracy: 0.8138\n",
            "Epoch 5/100\n",
            "640/640 [==============================] - 1s 1ms/step - loss: 0.4184 - accuracy: 0.8145 - val_loss: 0.4238 - val_accuracy: 0.8131\n",
            "Epoch 6/100\n",
            "640/640 [==============================] - 1s 1ms/step - loss: 0.4180 - accuracy: 0.8100 - val_loss: 0.4213 - val_accuracy: 0.8163\n",
            "Epoch 7/100\n",
            "640/640 [==============================] - 1s 1ms/step - loss: 0.4228 - accuracy: 0.8155 - val_loss: 0.4171 - val_accuracy: 0.8206\n",
            "Epoch 8/100\n",
            "640/640 [==============================] - 1s 1ms/step - loss: 0.4015 - accuracy: 0.8253 - val_loss: 0.4138 - val_accuracy: 0.8244\n",
            "Epoch 9/100\n",
            "640/640 [==============================] - 1s 1ms/step - loss: 0.4045 - accuracy: 0.8297 - val_loss: 0.4119 - val_accuracy: 0.8263\n",
            "Epoch 10/100\n",
            "640/640 [==============================] - 1s 1ms/step - loss: 0.4196 - accuracy: 0.8203 - val_loss: 0.4102 - val_accuracy: 0.8338\n",
            "Epoch 11/100\n",
            "640/640 [==============================] - 1s 1ms/step - loss: 0.3958 - accuracy: 0.8327 - val_loss: 0.4089 - val_accuracy: 0.8313\n",
            "Epoch 12/100\n",
            "640/640 [==============================] - 1s 1ms/step - loss: 0.3874 - accuracy: 0.8375 - val_loss: 0.4066 - val_accuracy: 0.8338\n",
            "Epoch 13/100\n",
            "640/640 [==============================] - 1s 1ms/step - loss: 0.3819 - accuracy: 0.8402 - val_loss: 0.4059 - val_accuracy: 0.8363\n",
            "Epoch 14/100\n",
            "640/640 [==============================] - 1s 1ms/step - loss: 0.3879 - accuracy: 0.8385 - val_loss: 0.4051 - val_accuracy: 0.8344\n",
            "Epoch 15/100\n",
            "640/640 [==============================] - 1s 1ms/step - loss: 0.4005 - accuracy: 0.8289 - val_loss: 0.4079 - val_accuracy: 0.8325\n",
            "Epoch 16/100\n",
            "640/640 [==============================] - 1s 1ms/step - loss: 0.4043 - accuracy: 0.8282 - val_loss: 0.4052 - val_accuracy: 0.8325\n",
            "Epoch 17/100\n",
            "640/640 [==============================] - 1s 1ms/step - loss: 0.3777 - accuracy: 0.8452 - val_loss: 0.4034 - val_accuracy: 0.8344\n",
            "Epoch 18/100\n",
            "640/640 [==============================] - 1s 1ms/step - loss: 0.3876 - accuracy: 0.8402 - val_loss: 0.4036 - val_accuracy: 0.8350\n",
            "Epoch 19/100\n",
            "640/640 [==============================] - 1s 1ms/step - loss: 0.3822 - accuracy: 0.8413 - val_loss: 0.4049 - val_accuracy: 0.8344\n",
            "Epoch 20/100\n",
            "640/640 [==============================] - 1s 1ms/step - loss: 0.3897 - accuracy: 0.8407 - val_loss: 0.4028 - val_accuracy: 0.8331\n",
            "Epoch 21/100\n",
            "640/640 [==============================] - 1s 1ms/step - loss: 0.3795 - accuracy: 0.8456 - val_loss: 0.4024 - val_accuracy: 0.8325\n",
            "Epoch 22/100\n",
            "640/640 [==============================] - 1s 1ms/step - loss: 0.3848 - accuracy: 0.8469 - val_loss: 0.4027 - val_accuracy: 0.8319\n",
            "Epoch 23/100\n",
            "640/640 [==============================] - 1s 1ms/step - loss: 0.3986 - accuracy: 0.8334 - val_loss: 0.4034 - val_accuracy: 0.8300\n",
            "Epoch 24/100\n",
            "640/640 [==============================] - 1s 1ms/step - loss: 0.3966 - accuracy: 0.8314 - val_loss: 0.4011 - val_accuracy: 0.8319\n",
            "Epoch 25/100\n",
            "640/640 [==============================] - 1s 1ms/step - loss: 0.3696 - accuracy: 0.8476 - val_loss: 0.3995 - val_accuracy: 0.8325\n",
            "Epoch 26/100\n",
            "640/640 [==============================] - 1s 1ms/step - loss: 0.3797 - accuracy: 0.8423 - val_loss: 0.4006 - val_accuracy: 0.8313\n",
            "Epoch 27/100\n",
            "640/640 [==============================] - 1s 1ms/step - loss: 0.3714 - accuracy: 0.8477 - val_loss: 0.3996 - val_accuracy: 0.8306\n",
            "Epoch 28/100\n",
            "640/640 [==============================] - 1s 1ms/step - loss: 0.3747 - accuracy: 0.8446 - val_loss: 0.3973 - val_accuracy: 0.8294\n",
            "Epoch 29/100\n",
            "640/640 [==============================] - 1s 1ms/step - loss: 0.3882 - accuracy: 0.8370 - val_loss: 0.3958 - val_accuracy: 0.8281\n",
            "Epoch 30/100\n",
            "640/640 [==============================] - 1s 1ms/step - loss: 0.3722 - accuracy: 0.8430 - val_loss: 0.3936 - val_accuracy: 0.8338\n",
            "Epoch 31/100\n",
            "640/640 [==============================] - 1s 1ms/step - loss: 0.3708 - accuracy: 0.8439 - val_loss: 0.3922 - val_accuracy: 0.8319\n",
            "Epoch 32/100\n",
            "640/640 [==============================] - 1s 2ms/step - loss: 0.3779 - accuracy: 0.8379 - val_loss: 0.3918 - val_accuracy: 0.8338\n",
            "Epoch 33/100\n",
            "640/640 [==============================] - 1s 1ms/step - loss: 0.3519 - accuracy: 0.8567 - val_loss: 0.3887 - val_accuracy: 0.8313\n",
            "Epoch 34/100\n",
            "640/640 [==============================] - 1s 1ms/step - loss: 0.3621 - accuracy: 0.8516 - val_loss: 0.3849 - val_accuracy: 0.8331\n",
            "Epoch 35/100\n",
            "640/640 [==============================] - 1s 1ms/step - loss: 0.3783 - accuracy: 0.8439 - val_loss: 0.3847 - val_accuracy: 0.8356\n",
            "Epoch 36/100\n",
            "640/640 [==============================] - 1s 1ms/step - loss: 0.3813 - accuracy: 0.8384 - val_loss: 0.3814 - val_accuracy: 0.8394\n",
            "Epoch 37/100\n",
            "640/640 [==============================] - 1s 1ms/step - loss: 0.3706 - accuracy: 0.8441 - val_loss: 0.3755 - val_accuracy: 0.8375\n",
            "Epoch 38/100\n",
            "640/640 [==============================] - 1s 1ms/step - loss: 0.3687 - accuracy: 0.8467 - val_loss: 0.3727 - val_accuracy: 0.8400\n",
            "Epoch 39/100\n",
            "640/640 [==============================] - 1s 1ms/step - loss: 0.3600 - accuracy: 0.8499 - val_loss: 0.3686 - val_accuracy: 0.8419\n",
            "Epoch 40/100\n",
            "640/640 [==============================] - 1s 1ms/step - loss: 0.3637 - accuracy: 0.8445 - val_loss: 0.3653 - val_accuracy: 0.8413\n",
            "Epoch 41/100\n",
            "640/640 [==============================] - 1s 1ms/step - loss: 0.3585 - accuracy: 0.8518 - val_loss: 0.3625 - val_accuracy: 0.8475\n",
            "Epoch 42/100\n",
            "640/640 [==============================] - 1s 1ms/step - loss: 0.3515 - accuracy: 0.8551 - val_loss: 0.3600 - val_accuracy: 0.8494\n",
            "Epoch 43/100\n",
            "640/640 [==============================] - 1s 1ms/step - loss: 0.3534 - accuracy: 0.8533 - val_loss: 0.3562 - val_accuracy: 0.8487\n",
            "Epoch 44/100\n",
            "640/640 [==============================] - 1s 1ms/step - loss: 0.3504 - accuracy: 0.8577 - val_loss: 0.3545 - val_accuracy: 0.8531\n",
            "Epoch 45/100\n",
            "640/640 [==============================] - 1s 1ms/step - loss: 0.3501 - accuracy: 0.8610 - val_loss: 0.3510 - val_accuracy: 0.8525\n",
            "Epoch 46/100\n",
            "640/640 [==============================] - 1s 1ms/step - loss: 0.3395 - accuracy: 0.8658 - val_loss: 0.3500 - val_accuracy: 0.8556\n",
            "Epoch 47/100\n",
            "640/640 [==============================] - 1s 1ms/step - loss: 0.3478 - accuracy: 0.8588 - val_loss: 0.3479 - val_accuracy: 0.8550\n",
            "Epoch 48/100\n",
            "640/640 [==============================] - 1s 1ms/step - loss: 0.3473 - accuracy: 0.8549 - val_loss: 0.3449 - val_accuracy: 0.8581\n",
            "Epoch 49/100\n",
            "640/640 [==============================] - 1s 1ms/step - loss: 0.3441 - accuracy: 0.8646 - val_loss: 0.3446 - val_accuracy: 0.8562\n",
            "Epoch 50/100\n",
            "640/640 [==============================] - 1s 1ms/step - loss: 0.3351 - accuracy: 0.8644 - val_loss: 0.3424 - val_accuracy: 0.8569\n",
            "Epoch 51/100\n",
            "640/640 [==============================] - 1s 1ms/step - loss: 0.3439 - accuracy: 0.8573 - val_loss: 0.3393 - val_accuracy: 0.8600\n",
            "Epoch 52/100\n",
            "640/640 [==============================] - 1s 1ms/step - loss: 0.3329 - accuracy: 0.8652 - val_loss: 0.3375 - val_accuracy: 0.8631\n",
            "Epoch 53/100\n",
            "640/640 [==============================] - 1s 1ms/step - loss: 0.3401 - accuracy: 0.8613 - val_loss: 0.3361 - val_accuracy: 0.8656\n",
            "Epoch 54/100\n",
            "640/640 [==============================] - 1s 1ms/step - loss: 0.3392 - accuracy: 0.8593 - val_loss: 0.3342 - val_accuracy: 0.8625\n",
            "Epoch 55/100\n",
            "640/640 [==============================] - 1s 1ms/step - loss: 0.3335 - accuracy: 0.8670 - val_loss: 0.3333 - val_accuracy: 0.8637\n",
            "Epoch 56/100\n",
            "640/640 [==============================] - 1s 1ms/step - loss: 0.3351 - accuracy: 0.8647 - val_loss: 0.3355 - val_accuracy: 0.8587\n",
            "Epoch 57/100\n",
            "640/640 [==============================] - 1s 1ms/step - loss: 0.3452 - accuracy: 0.8550 - val_loss: 0.3310 - val_accuracy: 0.8625\n",
            "Epoch 58/100\n",
            "640/640 [==============================] - 1s 1ms/step - loss: 0.3435 - accuracy: 0.8557 - val_loss: 0.3326 - val_accuracy: 0.8675\n",
            "Epoch 59/100\n",
            "640/640 [==============================] - 1s 1ms/step - loss: 0.3366 - accuracy: 0.8611 - val_loss: 0.3312 - val_accuracy: 0.8650\n",
            "Epoch 60/100\n",
            "640/640 [==============================] - 1s 1ms/step - loss: 0.3331 - accuracy: 0.8617 - val_loss: 0.3284 - val_accuracy: 0.8644\n",
            "Epoch 61/100\n",
            "640/640 [==============================] - 1s 1ms/step - loss: 0.3356 - accuracy: 0.8627 - val_loss: 0.3295 - val_accuracy: 0.8662\n",
            "Epoch 62/100\n",
            "640/640 [==============================] - 1s 1ms/step - loss: 0.3234 - accuracy: 0.8682 - val_loss: 0.3295 - val_accuracy: 0.8669\n",
            "Epoch 63/100\n",
            "640/640 [==============================] - 1s 1ms/step - loss: 0.3324 - accuracy: 0.8646 - val_loss: 0.3283 - val_accuracy: 0.8619\n",
            "Epoch 64/100\n",
            "640/640 [==============================] - 1s 1ms/step - loss: 0.3443 - accuracy: 0.8584 - val_loss: 0.3275 - val_accuracy: 0.8656\n",
            "Epoch 65/100\n",
            "640/640 [==============================] - 1s 1ms/step - loss: 0.3447 - accuracy: 0.8601 - val_loss: 0.3300 - val_accuracy: 0.8656\n",
            "Epoch 66/100\n",
            "640/640 [==============================] - 1s 1ms/step - loss: 0.3382 - accuracy: 0.8622 - val_loss: 0.3274 - val_accuracy: 0.8700\n",
            "Epoch 67/100\n",
            "640/640 [==============================] - 1s 1ms/step - loss: 0.3293 - accuracy: 0.8664 - val_loss: 0.3269 - val_accuracy: 0.8669\n",
            "Epoch 68/100\n",
            "640/640 [==============================] - 1s 1ms/step - loss: 0.3347 - accuracy: 0.8652 - val_loss: 0.3289 - val_accuracy: 0.8612\n",
            "Epoch 69/100\n",
            "640/640 [==============================] - 1s 1ms/step - loss: 0.3319 - accuracy: 0.8664 - val_loss: 0.3262 - val_accuracy: 0.8700\n",
            "Epoch 70/100\n",
            "640/640 [==============================] - 1s 1ms/step - loss: 0.3307 - accuracy: 0.8672 - val_loss: 0.3247 - val_accuracy: 0.8681\n",
            "Epoch 71/100\n",
            "640/640 [==============================] - 1s 1ms/step - loss: 0.3347 - accuracy: 0.8661 - val_loss: 0.3247 - val_accuracy: 0.8694\n",
            "Epoch 72/100\n",
            "640/640 [==============================] - 1s 1ms/step - loss: 0.3310 - accuracy: 0.8610 - val_loss: 0.3239 - val_accuracy: 0.8687\n",
            "Epoch 73/100\n",
            "640/640 [==============================] - 1s 2ms/step - loss: 0.3366 - accuracy: 0.8621 - val_loss: 0.3247 - val_accuracy: 0.8694\n",
            "Epoch 74/100\n",
            "640/640 [==============================] - 1s 1ms/step - loss: 0.3302 - accuracy: 0.8731 - val_loss: 0.3247 - val_accuracy: 0.8675\n",
            "Epoch 75/100\n",
            "640/640 [==============================] - 1s 1ms/step - loss: 0.3351 - accuracy: 0.8668 - val_loss: 0.3232 - val_accuracy: 0.8687\n",
            "Epoch 76/100\n",
            "640/640 [==============================] - 1s 1ms/step - loss: 0.3396 - accuracy: 0.8637 - val_loss: 0.3237 - val_accuracy: 0.8675\n",
            "Epoch 77/100\n",
            "640/640 [==============================] - 1s 1ms/step - loss: 0.3432 - accuracy: 0.8594 - val_loss: 0.3265 - val_accuracy: 0.8637\n",
            "Epoch 78/100\n",
            "640/640 [==============================] - 1s 1ms/step - loss: 0.3403 - accuracy: 0.8578 - val_loss: 0.3231 - val_accuracy: 0.8700\n",
            "Epoch 79/100\n",
            "640/640 [==============================] - 1s 1ms/step - loss: 0.3283 - accuracy: 0.8648 - val_loss: 0.3238 - val_accuracy: 0.8662\n",
            "Epoch 80/100\n",
            "640/640 [==============================] - 1s 1ms/step - loss: 0.3276 - accuracy: 0.8698 - val_loss: 0.3270 - val_accuracy: 0.8656\n",
            "Epoch 81/100\n",
            "640/640 [==============================] - 1s 1ms/step - loss: 0.3278 - accuracy: 0.8701 - val_loss: 0.3238 - val_accuracy: 0.8656\n",
            "Epoch 82/100\n",
            "640/640 [==============================] - 1s 1ms/step - loss: 0.3421 - accuracy: 0.8571 - val_loss: 0.3253 - val_accuracy: 0.8687\n",
            "Epoch 83/100\n",
            "640/640 [==============================] - 1s 1ms/step - loss: 0.3379 - accuracy: 0.8612 - val_loss: 0.3229 - val_accuracy: 0.8687\n",
            "Epoch 84/100\n",
            "640/640 [==============================] - 1s 1ms/step - loss: 0.3187 - accuracy: 0.8664 - val_loss: 0.3233 - val_accuracy: 0.8662\n",
            "Epoch 85/100\n",
            "640/640 [==============================] - 1s 1ms/step - loss: 0.3383 - accuracy: 0.8567 - val_loss: 0.3240 - val_accuracy: 0.8656\n",
            "Epoch 86/100\n",
            "640/640 [==============================] - 1s 1ms/step - loss: 0.3282 - accuracy: 0.8687 - val_loss: 0.3228 - val_accuracy: 0.8662\n",
            "Epoch 87/100\n",
            "640/640 [==============================] - 1s 1ms/step - loss: 0.3322 - accuracy: 0.8653 - val_loss: 0.3245 - val_accuracy: 0.8675\n",
            "Epoch 88/100\n",
            "640/640 [==============================] - 1s 1ms/step - loss: 0.3271 - accuracy: 0.8644 - val_loss: 0.3234 - val_accuracy: 0.8675\n",
            "Epoch 89/100\n",
            "640/640 [==============================] - 1s 1ms/step - loss: 0.3288 - accuracy: 0.8674 - val_loss: 0.3228 - val_accuracy: 0.8694\n",
            "Epoch 90/100\n",
            "640/640 [==============================] - 1s 1ms/step - loss: 0.3281 - accuracy: 0.8654 - val_loss: 0.3238 - val_accuracy: 0.8650\n",
            "Epoch 91/100\n",
            "640/640 [==============================] - 1s 1ms/step - loss: 0.3346 - accuracy: 0.8679 - val_loss: 0.3236 - val_accuracy: 0.8650\n",
            "Epoch 92/100\n",
            "640/640 [==============================] - 1s 1ms/step - loss: 0.3319 - accuracy: 0.8666 - val_loss: 0.3222 - val_accuracy: 0.8662\n",
            "Epoch 93/100\n",
            "640/640 [==============================] - 1s 1ms/step - loss: 0.3319 - accuracy: 0.8621 - val_loss: 0.3236 - val_accuracy: 0.8631\n",
            "Epoch 94/100\n",
            "640/640 [==============================] - 1s 1ms/step - loss: 0.3338 - accuracy: 0.8618 - val_loss: 0.3218 - val_accuracy: 0.8644\n",
            "Epoch 95/100\n",
            "640/640 [==============================] - 1s 1ms/step - loss: 0.3116 - accuracy: 0.8729 - val_loss: 0.3225 - val_accuracy: 0.8644\n",
            "Epoch 96/100\n",
            "640/640 [==============================] - 1s 1ms/step - loss: 0.3341 - accuracy: 0.8655 - val_loss: 0.3241 - val_accuracy: 0.8675\n",
            "Epoch 97/100\n",
            "640/640 [==============================] - 1s 1ms/step - loss: 0.3334 - accuracy: 0.8640 - val_loss: 0.3224 - val_accuracy: 0.8669\n",
            "Epoch 98/100\n",
            "640/640 [==============================] - 1s 1ms/step - loss: 0.3343 - accuracy: 0.8648 - val_loss: 0.3253 - val_accuracy: 0.8656\n",
            "Epoch 99/100\n",
            "640/640 [==============================] - 1s 1ms/step - loss: 0.3237 - accuracy: 0.8671 - val_loss: 0.3236 - val_accuracy: 0.8625\n",
            "Epoch 100/100\n",
            "640/640 [==============================] - 1s 1ms/step - loss: 0.3231 - accuracy: 0.8704 - val_loss: 0.3239 - val_accuracy: 0.8656\n"
          ],
          "name": "stdout"
        }
      ]
    },
    {
      "cell_type": "code",
      "metadata": {
        "id": "yYYJTa7rKDfX",
        "outputId": "8fb3057c-8d8b-43e2-e00d-459203b0e71c",
        "colab": {
          "base_uri": "https://localhost:8080/"
        }
      },
      "source": [
        "# list all data in history\n",
        "print(model_history.history.keys()) \n"
      ],
      "execution_count": 51,
      "outputs": [
        {
          "output_type": "stream",
          "text": [
            "dict_keys(['loss', 'accuracy', 'val_loss', 'val_accuracy'])\n"
          ],
          "name": "stdout"
        }
      ]
    },
    {
      "cell_type": "code",
      "metadata": {
        "id": "XHWggEmmKga6",
        "outputId": "9436cc52-1a55-4590-994b-0a0bd9c40c08",
        "colab": {
          "base_uri": "https://localhost:8080/",
          "height": 295
        }
      },
      "source": [
        "import matplotlib.pyplot as plt\n",
        "plt.plot(model_history.history[\"accuracy\"])\n",
        "plt.plot(model_history.history[\"val_accuracy\"])\n",
        "plt.title(\"model accuracy\")\n",
        "plt.ylabel(\"accuracy\")\n",
        "plt.xlabel(\"epoch\")\n",
        "plt.legend([\"train\",\"test_validation\"],loc=\"upper left\")\n",
        "plt.show()"
      ],
      "execution_count": 53,
      "outputs": [
        {
          "output_type": "display_data",
          "data": {
            "image/png": "[encoded data removed]",
            "text/plain": [
              "<Figure size 432x288 with 1 Axes>"
            ]
          },
          "metadata": {
            "tags": [],
            "needs_background": "light"
          }
        }
      ]
    },
    {
      "cell_type": "code",
      "metadata": {
        "id": "1QkSfZs2LgWT"
      },
      "source": [
        "# predicting the test set result\n",
        "y_pred = classifier.predict(x_test)"
      ],
      "execution_count": 57,
      "outputs": []
    },
    {
      "cell_type": "code",
      "metadata": {
        "id": "VSveh0eIL4V_"
      },
      "source": [
        "y_pred = (y_pred > 0.5)"
      ],
      "execution_count": 59,
      "outputs": []
    },
    {
      "cell_type": "code",
      "metadata": {
        "id": "TnFv0_GiMIKk",
        "outputId": "59659846-1964-4bc1-ff28-8d5564478d5e",
        "colab": {
          "base_uri": "https://localhost:8080/"
        }
      },
      "source": [
        "y_pred"
      ],
      "execution_count": 60,
      "outputs": [
        {
          "output_type": "execute_result",
          "data": {
            "text/plain": [
              "array([[False],\n",
              "       [False],\n",
              "       [False],\n",
              "       ...,\n",
              "       [False],\n",
              "       [False],\n",
              "       [False]])"
            ]
          },
          "metadata": {
            "tags": []
          },
          "execution_count": 60
        }
      ]
    },
    {
      "cell_type": "code",
      "metadata": {
        "id": "bHy7clxdMKci"
      },
      "source": [
        "from sklearn.metrics import accuracy_score, confusion_matrix\n",
        "cm = confusion_matrix(y_test, y_pred)\n",
        "acc = accuracy_score(y_test, y_pred) \n"
      ],
      "execution_count": 61,
      "outputs": []
    },
    {
      "cell_type": "code",
      "metadata": {
        "id": "tM-Oteb_M-4A",
        "outputId": "96647ba5-8c27-4827-ef91-dfebab0483cf",
        "colab": {
          "base_uri": "https://localhost:8080/"
        }
      },
      "source": [
        "cm"
      ],
      "execution_count": 62,
      "outputs": [
        {
          "output_type": "execute_result",
          "data": {
            "text/plain": [
              "array([[1538,   50],\n",
              "       [ 248,  164]])"
            ]
          },
          "metadata": {
            "tags": []
          },
          "execution_count": 62
        }
      ]
    },
    {
      "cell_type": "code",
      "metadata": {
        "id": "b6b7HX9HM_3T",
        "outputId": "d63ba795-859c-43b0-bc15-7c004052fa2b",
        "colab": {
          "base_uri": "https://localhost:8080/"
        }
      },
      "source": [
        "acc"
      ],
      "execution_count": 63,
      "outputs": [
        {
          "output_type": "execute_result",
          "data": {
            "text/plain": [
              "0.851"
            ]
          },
          "metadata": {
            "tags": []
          },
          "execution_count": 63
        }
      ]
    },
    {
      "cell_type": "code",
      "metadata": {
        "id": "VTD6rXAXNAsb"
      },
      "source": [
        ""
      ],
      "execution_count": null,
      "outputs": []
    }
  ]
}
