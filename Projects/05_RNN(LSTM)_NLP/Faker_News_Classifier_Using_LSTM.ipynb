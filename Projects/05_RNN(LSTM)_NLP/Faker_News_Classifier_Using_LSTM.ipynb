{
  "nbformat": 4,
  "nbformat_minor": 0,
  "metadata": {
    "colab": {
      "name": "Faker_News_Classifier_Using_LSTM.ipynb",
      "provenance": [],
      "authorship_tag": "ABX9TyO5UG4PkBrQzFhfuffo4dO8",
      "include_colab_link": true
    },
    "kernelspec": {
      "name": "python3",
      "display_name": "Python 3"
    },
    "language_info": {
      "name": "python"
    }
  },
  "cells": [
    {
      "cell_type": "markdown",
      "metadata": {
        "id": "view-in-github",
        "colab_type": "text"
      },
      "source": [
        "<a href=\"https://colab.research.google.com/github/pvidya11/Deep_Learning/blob/main/Projects/05_RNN(LSTM)_NLP/Faker_News_Classifier_Using_LSTM.ipynb\" target=\"_parent\"><img src=\"https://colab.research.google.com/assets/colab-badge.svg\" alt=\"Open In Colab\"/></a>"
      ]
    },
    {
      "cell_type": "code",
      "metadata": {
        "id": "ebl9iFXOW7cE"
      },
      "source": [
        "#train_file = \"train.csv\"\n",
        "#test_file = \"test.csv\"\n",
        "import pandas as pd  \n",
        "train_df = pd.read_csv( \"train.csv\")\n",
        "test_df = pd.read_csv( \"test.csv\")"
      ],
      "execution_count": null,
      "outputs": []
    },
    {
      "cell_type": "code",
      "metadata": {
        "colab": {
          "base_uri": "https://localhost:8080/",
          "height": 167
        },
        "id": "dhxc2hX71TTt",
        "outputId": "b888d052-d8fb-4d89-d7c4-be1d4ae24a06"
      },
      "source": [
        "train_df.head()"
      ],
      "execution_count": 3,
      "outputs": [
        {
          "output_type": "error",
          "ename": "NameError",
          "evalue": "ignored",
          "traceback": [
            "\u001b[0;31m---------------------------------------------------------------------------\u001b[0m",
            "\u001b[0;31mNameError\u001b[0m                                 Traceback (most recent call last)",
            "\u001b[0;32m<ipython-input-3-193753be380d>\u001b[0m in \u001b[0;36m<module>\u001b[0;34m()\u001b[0m\n\u001b[0;32m----> 1\u001b[0;31m \u001b[0mtrain_df\u001b[0m\u001b[0;34m.\u001b[0m\u001b[0mhead\u001b[0m\u001b[0;34m(\u001b[0m\u001b[0;34m)\u001b[0m\u001b[0;34m\u001b[0m\u001b[0;34m\u001b[0m\u001b[0m\n\u001b[0m",
            "\u001b[0;31mNameError\u001b[0m: name 'train_df' is not defined"
          ]
        }
      ]
    },
    {
      "cell_type": "code",
      "metadata": {
        "colab": {
          "base_uri": "https://localhost:8080/",
          "height": 197
        },
        "id": "UNUtyyD82emM",
        "outputId": "e5567b09-eb21-43f1-8d65-5399ec0aaafa"
      },
      "source": [
        "test_df.head()"
      ],
      "execution_count": 20,
      "outputs": [
        {
          "output_type": "execute_result",
          "data": {
            "text/html": [
              "<div>\n",
              "<style scoped>\n",
              "    .dataframe tbody tr th:only-of-type {\n",
              "        vertical-align: middle;\n",
              "    }\n",
              "\n",
              "    .dataframe tbody tr th {\n",
              "        vertical-align: top;\n",
              "    }\n",
              "\n",
              "    .dataframe thead th {\n",
              "        text-align: right;\n",
              "    }\n",
              "</style>\n",
              "<table border=\"1\" class=\"dataframe\">\n",
              "  <thead>\n",
              "    <tr style=\"text-align: right;\">\n",
              "      <th></th>\n",
              "      <th>id</th>\n",
              "      <th>title</th>\n",
              "      <th>author</th>\n",
              "      <th>text</th>\n",
              "    </tr>\n",
              "  </thead>\n",
              "  <tbody>\n",
              "    <tr>\n",
              "      <th>0</th>\n",
              "      <td>20800</td>\n",
              "      <td>Specter of Trump Loosens Tongues, if Not Purse...</td>\n",
              "      <td>David Streitfeld</td>\n",
              "      <td>PALO ALTO, Calif.  —   After years of scorning...</td>\n",
              "    </tr>\n",
              "    <tr>\n",
              "      <th>1</th>\n",
              "      <td>20801</td>\n",
              "      <td>Russian warships ready to strike terrorists ne...</td>\n",
              "      <td>NaN</td>\n",
              "      <td>Russian warships ready to strike terrorists ne...</td>\n",
              "    </tr>\n",
              "    <tr>\n",
              "      <th>2</th>\n",
              "      <td>20802</td>\n",
              "      <td>#NoDAPL: Native American Leaders Vow to Stay A...</td>\n",
              "      <td>Common Dreams</td>\n",
              "      <td>Videos #NoDAPL: Native American Leaders Vow to...</td>\n",
              "    </tr>\n",
              "    <tr>\n",
              "      <th>3</th>\n",
              "      <td>20803</td>\n",
              "      <td>Tim Tebow Will Attempt Another Comeback, This ...</td>\n",
              "      <td>Daniel Victor</td>\n",
              "      <td>If at first you don’t succeed, try a different...</td>\n",
              "    </tr>\n",
              "    <tr>\n",
              "      <th>4</th>\n",
              "      <td>20804</td>\n",
              "      <td>Keiser Report: Meme Wars (E995)</td>\n",
              "      <td>Truth Broadcast Network</td>\n",
              "      <td>42 mins ago 1 Views 0 Comments 0 Likes 'For th...</td>\n",
              "    </tr>\n",
              "  </tbody>\n",
              "</table>\n",
              "</div>"
            ],
            "text/plain": [
              "      id  ...                                               text\n",
              "0  20800  ...  PALO ALTO, Calif.  —   After years of scorning...\n",
              "1  20801  ...  Russian warships ready to strike terrorists ne...\n",
              "2  20802  ...  Videos #NoDAPL: Native American Leaders Vow to...\n",
              "3  20803  ...  If at first you don’t succeed, try a different...\n",
              "4  20804  ...  42 mins ago 1 Views 0 Comments 0 Likes 'For th...\n",
              "\n",
              "[5 rows x 4 columns]"
            ]
          },
          "metadata": {
            "tags": []
          },
          "execution_count": 20
        }
      ]
    },
    {
      "cell_type": "code",
      "metadata": {
        "colab": {
          "base_uri": "https://localhost:8080/"
        },
        "id": "lTlJNNdB1TWt",
        "outputId": "1ef74464-76c9-4e2e-91f7-ceed7300553d"
      },
      "source": [
        "train_df.shape, test_df.shape"
      ],
      "execution_count": 19,
      "outputs": [
        {
          "output_type": "execute_result",
          "data": {
            "text/plain": [
              "((20800, 5), (5200, 4))"
            ]
          },
          "metadata": {
            "tags": []
          },
          "execution_count": 19
        }
      ]
    },
    {
      "cell_type": "code",
      "metadata": {
        "id": "giYoZkJE2eo-"
      },
      "source": [
        "## drop NAN values\n",
        "train_df = train_df.dropna()"
      ],
      "execution_count": 21,
      "outputs": []
    },
    {
      "cell_type": "code",
      "metadata": {
        "colab": {
          "base_uri": "https://localhost:8080/"
        },
        "id": "zj6UkSGLoSei",
        "outputId": "953c468d-18ef-4b69-9766-234631b304c2"
      },
      "source": [
        "train_df.shape, test_df.shape"
      ],
      "execution_count": 22,
      "outputs": [
        {
          "output_type": "execute_result",
          "data": {
            "text/plain": [
              "((18285, 5), (5200, 4))"
            ]
          },
          "metadata": {
            "tags": []
          },
          "execution_count": 22
        }
      ]
    },
    {
      "cell_type": "code",
      "metadata": {
        "id": "4oN8setDoi0-"
      },
      "source": [
        "## Get the Independent Features\n",
        "x_train = train_df.drop('label',axis=1)\n",
        "x_test  = test_df"
      ],
      "execution_count": 77,
      "outputs": []
    },
    {
      "cell_type": "code",
      "metadata": {
        "id": "jpEBJCt13HF4"
      },
      "source": [
        "## Get the Dependent Features\n",
        "y_train = train_df['label']"
      ],
      "execution_count": 24,
      "outputs": []
    },
    {
      "cell_type": "code",
      "metadata": {
        "colab": {
          "base_uri": "https://localhost:8080/"
        },
        "id": "xQi5iYZcqGU3",
        "outputId": "4fc924d3-5e61-4721-fa2c-edf059feef03"
      },
      "source": [
        "x_train.shape, y_train.shape"
      ],
      "execution_count": 26,
      "outputs": [
        {
          "output_type": "execute_result",
          "data": {
            "text/plain": [
              "((18285, 4), (18285,))"
            ]
          },
          "metadata": {
            "tags": []
          },
          "execution_count": 26
        }
      ]
    },
    {
      "cell_type": "code",
      "metadata": {
        "id": "uX2XRnBVqXuY"
      },
      "source": [
        "import tensorflow as tf"
      ],
      "execution_count": 27,
      "outputs": []
    },
    {
      "cell_type": "code",
      "metadata": {
        "colab": {
          "base_uri": "https://localhost:8080/",
          "height": 35
        },
        "id": "L7sNoHPJqXyG",
        "outputId": "46593665-c153-4b61-b477-2082500ddd75"
      },
      "source": [
        "tf.__version__"
      ],
      "execution_count": 28,
      "outputs": [
        {
          "output_type": "execute_result",
          "data": {
            "application/vnd.google.colaboratory.intrinsic+json": {
              "type": "string"
            },
            "text/plain": [
              "'2.4.1'"
            ]
          },
          "metadata": {
            "tags": []
          },
          "execution_count": 28
        }
      ]
    },
    {
      "cell_type": "code",
      "metadata": {
        "id": "T0-lopolqX1D"
      },
      "source": [
        "from tensorflow.keras.models import Sequential\n",
        "from tensorflow.keras.layers import Embedding, LSTM, Dense\n",
        "from tensorflow.keras.preprocessing.text import one_hot\n",
        "from tensorflow.keras.preprocessing.sequence import pad_sequences"
      ],
      "execution_count": 29,
      "outputs": []
    },
    {
      "cell_type": "code",
      "metadata": {
        "id": "74lknUi2qX4Z"
      },
      "source": [
        "# Vocabulary size\n",
        "voc_size = 5000"
      ],
      "execution_count": 31,
      "outputs": []
    },
    {
      "cell_type": "markdown",
      "metadata": {
        "id": "2hR1W-zVoc5W"
      },
      "source": [
        "<h><b>Onehot Representation</h></b>"
      ]
    },
    {
      "cell_type": "code",
      "metadata": {
        "id": "_JYzyLtbol6M"
      },
      "source": [
        "messages = x_train.copy()"
      ],
      "execution_count": 33,
      "outputs": []
    },
    {
      "cell_type": "code",
      "metadata": {
        "colab": {
          "base_uri": "https://localhost:8080/",
          "height": 35
        },
        "id": "R7A-cgDgrBMf",
        "outputId": "9f3f02d6-ec48-4d63-a357-17163ff3e057"
      },
      "source": [
        "messages['title'][1]"
      ],
      "execution_count": 34,
      "outputs": [
        {
          "output_type": "execute_result",
          "data": {
            "application/vnd.google.colaboratory.intrinsic+json": {
              "type": "string"
            },
            "text/plain": [
              "'FLYNN: Hillary Clinton, Big Woman on Campus - Breitbart'"
            ]
          },
          "metadata": {
            "tags": []
          },
          "execution_count": 34
        }
      ]
    },
    {
      "cell_type": "code",
      "metadata": {
        "id": "qkHwFuvOoqm9"
      },
      "source": [
        "messages.reset_index(inplace=True)"
      ],
      "execution_count": 35,
      "outputs": []
    },
    {
      "cell_type": "code",
      "metadata": {
        "id": "7U5ucjF_o1ny"
      },
      "source": [
        "import nltk\n",
        "import re\n",
        "from nltk.corpus import stopwords"
      ],
      "execution_count": 37,
      "outputs": []
    },
    {
      "cell_type": "code",
      "metadata": {
        "colab": {
          "base_uri": "https://localhost:8080/"
        },
        "id": "-ZT_AXgco1rI",
        "outputId": "2196f747-9818-4b16-c286-392b8cdb6307"
      },
      "source": [
        "#Stop Words: A stop word is a commonly used word (such as “the”, “a”, “an”, “in”) \n",
        "# that a search engine has been programmed to ignore,\n",
        "nltk.download('stopwords')"
      ],
      "execution_count": 38,
      "outputs": [
        {
          "output_type": "stream",
          "text": [
            "[nltk_data] Downloading package stopwords to /root/nltk_data...\n",
            "[nltk_data]   Unzipping corpora/stopwords.zip.\n"
          ],
          "name": "stdout"
        },
        {
          "output_type": "execute_result",
          "data": {
            "text/plain": [
              "True"
            ]
          },
          "metadata": {
            "tags": []
          },
          "execution_count": 38
        }
      ]
    },
    {
      "cell_type": "code",
      "metadata": {
        "colab": {
          "base_uri": "https://localhost:8080/"
        },
        "id": "czW17xN3FlMK",
        "outputId": "88c4defd-1e3d-4cfe-f893-53c84d2eec91"
      },
      "source": [
        "len(stopwords.words('english'))"
      ],
      "execution_count": 43,
      "outputs": [
        {
          "output_type": "execute_result",
          "data": {
            "text/plain": [
              "179"
            ]
          },
          "metadata": {
            "tags": []
          },
          "execution_count": 43
        }
      ]
    },
    {
      "cell_type": "code",
      "metadata": {
        "id": "j73bL1M4o1uJ"
      },
      "source": [
        "# Dataset preprocessing\n",
        "from nltk.stem.porter import PorterStemmer\n",
        "ps = PorterStemmer()\n",
        "corpus = []\n",
        "for i in range(0, len(messages)):\n",
        "  #print(i)\n",
        "  review = re.sub('[^a-zA-Z]', ' ', messages['title'][i])\n",
        "  review = review.lower()\n",
        "  review = review.split()\n",
        "\n",
        "  review = [ps.stem(word) for word in review if not word in stopwords.words('english')]\n",
        "  review = ' '.join(review)\n",
        "  corpus.append(review)"
      ],
      "execution_count": 46,
      "outputs": []
    },
    {
      "cell_type": "code",
      "metadata": {
        "id": "eXUSoVyho1xi"
      },
      "source": [
        "# processed titles\n",
        "corpus"
      ],
      "execution_count": null,
      "outputs": []
    },
    {
      "cell_type": "code",
      "metadata": {
        "id": "5s4_5t1oo11H"
      },
      "source": [
        "onehot_repr = [one_hot(words, voc_size) for words in corpus]\n",
        "onehot_repr"
      ],
      "execution_count": null,
      "outputs": []
    },
    {
      "cell_type": "markdown",
      "metadata": {
        "id": "INYMoZI9sGja"
      },
      "source": [
        "<h><b>Embedding Representation</b><h>"
      ]
    },
    {
      "cell_type": "code",
      "metadata": {
        "colab": {
          "base_uri": "https://localhost:8080/"
        },
        "id": "omarVQNdo15F",
        "outputId": "d34c5ce3-6f4b-460b-8b3f-49f743c011c5"
      },
      "source": [
        "sent_len = 20\n",
        "embedded_docs = pad_sequences(onehot_repr, padding='pre', maxlen = sent_len)\n",
        "embedded_docs"
      ],
      "execution_count": 55,
      "outputs": [
        {
          "output_type": "execute_result",
          "data": {
            "text/plain": [
              "array([[   0,    0,    0, ...,  729, 3441,  816],\n",
              "       [   0,    0,    0, ..., 3808, 2216, 4094],\n",
              "       [   0,    0,    0, ...,  557, 2517, 1919],\n",
              "       ...,\n",
              "       [   0,    0,    0, ..., 3561, 2572, 3823],\n",
              "       [   0,    0,    0, ..., 3946,  131,  366],\n",
              "       [   0,    0,    0, ..., 3650, 2968, 2219]], dtype=int32)"
            ]
          },
          "metadata": {
            "tags": []
          },
          "execution_count": 55
        }
      ]
    },
    {
      "cell_type": "code",
      "metadata": {
        "colab": {
          "base_uri": "https://localhost:8080/"
        },
        "id": "pEjO-psgo19I",
        "outputId": "845b400e-04cd-4170-db6d-9de5b9ef02b5"
      },
      "source": [
        "len(embedded_docs)"
      ],
      "execution_count": 56,
      "outputs": [
        {
          "output_type": "execute_result",
          "data": {
            "text/plain": [
              "18285"
            ]
          },
          "metadata": {
            "tags": []
          },
          "execution_count": 56
        }
      ]
    },
    {
      "cell_type": "code",
      "metadata": {
        "colab": {
          "base_uri": "https://localhost:8080/"
        },
        "id": "Cw9WZPOytigg",
        "outputId": "73ec9638-67c0-4e79-bbe7-d1c7a3cb6542"
      },
      "source": [
        "embedded_docs[0]"
      ],
      "execution_count": 57,
      "outputs": [
        {
          "output_type": "execute_result",
          "data": {
            "text/plain": [
              "array([   0,    0,    0,    0,    0,    0,    0,    0,    0,    0, 2472,\n",
              "       4174, 2455,  277, 3501, 4312, 3835,  729, 3441,  816], dtype=int32)"
            ]
          },
          "metadata": {
            "tags": []
          },
          "execution_count": 57
        }
      ]
    },
    {
      "cell_type": "code",
      "metadata": {
        "colab": {
          "base_uri": "https://localhost:8080/"
        },
        "id": "z4MJvW6Ktiij",
        "outputId": "c077da0b-d7fe-45a5-df20-14578383d6bd"
      },
      "source": [
        "embedding_vector_features = 40\n",
        "model = Sequential()\n",
        "model.add(Embedding(voc_size, embedding_vector_features, input_length = sent_len))\n",
        "model.add(LSTM(100))\n",
        "model.add(Dense(1,activation='sigmoid'))\n",
        "model.compile(loss='binary_crossentropy', optimizer='adam',metrics=['accuracy'])\n",
        "print(model.summary())"
      ],
      "execution_count": 60,
      "outputs": [
        {
          "output_type": "stream",
          "text": [
            "Model: \"sequential_3\"\n",
            "_________________________________________________________________\n",
            "Layer (type)                 Output Shape              Param #   \n",
            "=================================================================\n",
            "embedding_1 (Embedding)      (None, 20, 40)            200000    \n",
            "_________________________________________________________________\n",
            "lstm_1 (LSTM)                (None, 100)               56400     \n",
            "_________________________________________________________________\n",
            "dense_1 (Dense)              (None, 1)                 101       \n",
            "=================================================================\n",
            "Total params: 256,501\n",
            "Trainable params: 256,501\n",
            "Non-trainable params: 0\n",
            "_________________________________________________________________\n",
            "None\n"
          ],
          "name": "stdout"
        }
      ]
    },
    {
      "cell_type": "code",
      "metadata": {
        "colab": {
          "base_uri": "https://localhost:8080/"
        },
        "id": "LuAZ_qXHtrNJ",
        "outputId": "3e5856de-f4da-41b0-86bf-07b09900d4ee"
      },
      "source": [
        "len(embedded_docs),y_train.shape"
      ],
      "execution_count": 62,
      "outputs": [
        {
          "output_type": "execute_result",
          "data": {
            "text/plain": [
              "(18285, (18285,))"
            ]
          },
          "metadata": {
            "tags": []
          },
          "execution_count": 62
        }
      ]
    },
    {
      "cell_type": "code",
      "metadata": {
        "id": "vfI_mdB_trQC"
      },
      "source": [
        "import numpy as np\n",
        "x_final = np.array(embedded_docs)\n",
        "y_final = np.array(y_train)"
      ],
      "execution_count": 63,
      "outputs": []
    },
    {
      "cell_type": "code",
      "metadata": {
        "colab": {
          "base_uri": "https://localhost:8080/"
        },
        "id": "5XY-SN4itrhn",
        "outputId": "29924a7e-7350-41ac-aea2-6aaf7abb4f26"
      },
      "source": [
        "x_final.shape,y_final.shape"
      ],
      "execution_count": 64,
      "outputs": [
        {
          "output_type": "execute_result",
          "data": {
            "text/plain": [
              "((18285, 20), (18285,))"
            ]
          },
          "metadata": {
            "tags": []
          },
          "execution_count": 64
        }
      ]
    },
    {
      "cell_type": "code",
      "metadata": {
        "id": "-WXaXbr_trkV"
      },
      "source": [
        "from sklearn.model_selection import train_test_split\n",
        "x_train_1, x_test_1, y_train_1, y_test_1 = train_test_split(x_final, y_final, test_size=0.30, random_state=42)"
      ],
      "execution_count": 65,
      "outputs": []
    },
    {
      "cell_type": "markdown",
      "metadata": {
        "id": "lDZfZDn7wTNp"
      },
      "source": [
        "<h><b>Model Training</b></h>"
      ]
    },
    {
      "cell_type": "code",
      "metadata": {
        "colab": {
          "base_uri": "https://localhost:8080/"
        },
        "id": "hRyhfQaKtikq",
        "outputId": "966a5186-dbaa-48e0-be05-b27266d3cef5"
      },
      "source": [
        "# finally training\n",
        "#model.fit(x_train_1, y_train_1, validation_data=(x_test, y_test), epoch=10, batch_size=64)\n",
        "model.fit(x_final, y_final, validation_split=0.30, epochs=10, batch_size=64)"
      ],
      "execution_count": 68,
      "outputs": [
        {
          "output_type": "stream",
          "text": [
            "Epoch 1/10\n",
            "200/200 [==============================] - 10s 38ms/step - loss: 0.4672 - accuracy: 0.7601 - val_loss: 0.1962 - val_accuracy: 0.9169\n",
            "Epoch 2/10\n",
            "200/200 [==============================] - 7s 34ms/step - loss: 0.1361 - accuracy: 0.9439 - val_loss: 0.2026 - val_accuracy: 0.9112\n",
            "Epoch 3/10\n",
            "200/200 [==============================] - 7s 34ms/step - loss: 0.1018 - accuracy: 0.9642 - val_loss: 0.2123 - val_accuracy: 0.9171\n",
            "Epoch 4/10\n",
            "200/200 [==============================] - 7s 34ms/step - loss: 0.0716 - accuracy: 0.9731 - val_loss: 0.2360 - val_accuracy: 0.9132\n",
            "Epoch 5/10\n",
            "200/200 [==============================] - 7s 34ms/step - loss: 0.0543 - accuracy: 0.9830 - val_loss: 0.2757 - val_accuracy: 0.9107\n",
            "Epoch 6/10\n",
            "200/200 [==============================] - 7s 35ms/step - loss: 0.0437 - accuracy: 0.9860 - val_loss: 0.3216 - val_accuracy: 0.9085\n",
            "Epoch 7/10\n",
            "200/200 [==============================] - 7s 35ms/step - loss: 0.0301 - accuracy: 0.9910 - val_loss: 0.3784 - val_accuracy: 0.9092\n",
            "Epoch 8/10\n",
            "200/200 [==============================] - 7s 35ms/step - loss: 0.0154 - accuracy: 0.9960 - val_loss: 0.4459 - val_accuracy: 0.9105\n",
            "Epoch 9/10\n",
            "200/200 [==============================] - 7s 35ms/step - loss: 0.0099 - accuracy: 0.9966 - val_loss: 0.4779 - val_accuracy: 0.9083\n",
            "Epoch 10/10\n",
            "200/200 [==============================] - 7s 35ms/step - loss: 0.0073 - accuracy: 0.9979 - val_loss: 0.5395 - val_accuracy: 0.9085\n"
          ],
          "name": "stdout"
        },
        {
          "output_type": "execute_result",
          "data": {
            "text/plain": [
              "<tensorflow.python.keras.callbacks.History at 0x7f4122232990>"
            ]
          },
          "metadata": {
            "tags": []
          },
          "execution_count": 68
        }
      ]
    },
    {
      "cell_type": "markdown",
      "metadata": {
        "id": "xCBacTZIwz3k"
      },
      "source": [
        "<h><b>Adding Dropout</b></h>"
      ]
    },
    {
      "cell_type": "code",
      "metadata": {
        "id": "2YQdlFnrtioQ"
      },
      "source": [
        "from tensorflow.keras.layers import Dropout\n",
        "# Creating model\n",
        "embedding_vector_features = 40\n",
        "model = Sequential()\n",
        "model.add(Embedding(voc_size, embedding_vector_features, input_length = sent_len))\n",
        "model.add(Dropout(0.5))\n",
        "model.add(LSTM(100))\n",
        "model.add(Dropout(0.5))\n",
        "model.add(Dense(1,activation='sigmoid'))\n",
        "model.compile(loss='binary_crossentropy',optimizer='adam',metrics=['accuracy'])"
      ],
      "execution_count": 73,
      "outputs": []
    },
    {
      "cell_type": "code",
      "metadata": {
        "colab": {
          "base_uri": "https://localhost:8080/"
        },
        "id": "H7x9yyWyLsqh",
        "outputId": "58f4a409-9207-41bf-9f81-1a90af4ca13f"
      },
      "source": [
        "\n",
        "model.fit(x_final, y_final, validation_split=0.30, epochs=10, batch_size=64)"
      ],
      "execution_count": 74,
      "outputs": [
        {
          "output_type": "stream",
          "text": [
            "Epoch 1/10\n",
            "200/200 [==============================] - 10s 38ms/step - loss: 0.4961 - accuracy: 0.7511 - val_loss: 0.2074 - val_accuracy: 0.9054\n",
            "Epoch 2/10\n",
            "200/200 [==============================] - 7s 35ms/step - loss: 0.1597 - accuracy: 0.9326 - val_loss: 0.1994 - val_accuracy: 0.9143\n",
            "Epoch 3/10\n",
            "200/200 [==============================] - 7s 35ms/step - loss: 0.1234 - accuracy: 0.9518 - val_loss: 0.1950 - val_accuracy: 0.9182\n",
            "Epoch 4/10\n",
            "200/200 [==============================] - 7s 35ms/step - loss: 0.0989 - accuracy: 0.9624 - val_loss: 0.2076 - val_accuracy: 0.9163\n",
            "Epoch 5/10\n",
            "200/200 [==============================] - 7s 35ms/step - loss: 0.0807 - accuracy: 0.9730 - val_loss: 0.2364 - val_accuracy: 0.9140\n",
            "Epoch 6/10\n",
            "200/200 [==============================] - 7s 36ms/step - loss: 0.0665 - accuracy: 0.9770 - val_loss: 0.2394 - val_accuracy: 0.9200\n",
            "Epoch 7/10\n",
            "200/200 [==============================] - 7s 36ms/step - loss: 0.0548 - accuracy: 0.9808 - val_loss: 0.2612 - val_accuracy: 0.9154\n",
            "Epoch 8/10\n",
            "200/200 [==============================] - 7s 36ms/step - loss: 0.0459 - accuracy: 0.9836 - val_loss: 0.2766 - val_accuracy: 0.9145\n",
            "Epoch 9/10\n",
            "200/200 [==============================] - 7s 35ms/step - loss: 0.0423 - accuracy: 0.9842 - val_loss: 0.3242 - val_accuracy: 0.9136\n",
            "Epoch 10/10\n",
            "200/200 [==============================] - 7s 35ms/step - loss: 0.0315 - accuracy: 0.9883 - val_loss: 0.3730 - val_accuracy: 0.9145\n"
          ],
          "name": "stdout"
        },
        {
          "output_type": "execute_result",
          "data": {
            "text/plain": [
              "<tensorflow.python.keras.callbacks.History at 0x7f411cf72490>"
            ]
          },
          "metadata": {
            "tags": []
          },
          "execution_count": 74
        }
      ]
    },
    {
      "cell_type": "markdown",
      "metadata": {
        "id": "bj51k396yrVP"
      },
      "source": [
        "<h><b>Performans Metrics And Accuracy</h></b>"
      ]
    },
    {
      "cell_type": "code",
      "metadata": {
        "id": "d7rBYHvaO5cY"
      },
      "source": [
        "def pre_processing(df):\n",
        "    messages = df.copy()\n",
        "    messages.reset_index(inplace=True)\n",
        "    ps = PorterStemmer()\n",
        "    corpus = []\n",
        "    for i in range(0, len(messages)):\n",
        "        #print(messages['title'][i])\n",
        "        try:\n",
        "          review = re.sub('[^a-zA-Z]', ' ', messages['title'][i])\n",
        "        except Exception as e:\n",
        "          print(messages['title'][i])\n",
        "        review = review.lower()\n",
        "        review = review.split()\n",
        "        review = [ps.stem(word) for word in review if not word in stopwords.words('english')]\n",
        "        review = ' '.join(review)\n",
        "        corpus.append(review)\n",
        "\n",
        "    onehot_repr = [one_hot(words, voc_size) for words in corpus]\n",
        "\n",
        "    sent_len = 20\n",
        "    embedded_docs = pad_sequences(onehot_repr, padding='pre', maxlen = sent_len)\n",
        "\n",
        "    x_final = np.array(embedded_docs)\n",
        "    return x_final"
      ],
      "execution_count": 91,
      "outputs": []
    },
    {
      "cell_type": "code",
      "metadata": {
        "colab": {
          "base_uri": "https://localhost:8080/"
        },
        "id": "QJcFNqTHQUGE",
        "outputId": "163c03b1-a37a-4b2d-f1d6-b1a5d8026b71"
      },
      "source": [
        "x_test = x_test.dropna()\n",
        "x_test_final = pre_processing(x_test)\n",
        "x_test_final"
      ],
      "execution_count": 100,
      "outputs": [
        {
          "output_type": "execute_result",
          "data": {
            "text/plain": [
              "array([[   0,    0,    0, ..., 3561, 2572, 3823],\n",
              "       [   0,    0,    0, ...,  522, 1399, 2630],\n",
              "       [   0,    0,    0, ..., 3561, 2572, 3823],\n",
              "       ...,\n",
              "       [   0,    0,    0, ..., 3561, 2572, 3823],\n",
              "       [   0,    0,    0, ..., 3561, 2572, 3823],\n",
              "       [   0,    0,    0, ..., 3561, 2572, 3823]], dtype=int32)"
            ]
          },
          "metadata": {
            "tags": []
          },
          "execution_count": 100
        }
      ]
    },
    {
      "cell_type": "code",
      "metadata": {
        "colab": {
          "base_uri": "https://localhost:8080/"
        },
        "id": "rUq04_DpTXTY",
        "outputId": "7af54b8e-2a48-484e-dab1-b353e9a34df0"
      },
      "source": [
        "len(x_test_final)"
      ],
      "execution_count": 101,
      "outputs": [
        {
          "output_type": "execute_result",
          "data": {
            "text/plain": [
              "4575"
            ]
          },
          "metadata": {
            "tags": []
          },
          "execution_count": 101
        }
      ]
    },
    {
      "cell_type": "code",
      "metadata": {
        "colab": {
          "base_uri": "https://localhost:8080/"
        },
        "id": "MhYfOeyFtiyY",
        "outputId": "fc6b9cd4-9811-4859-ee97-0dc1a4c3eb3d"
      },
      "source": [
        "y_pred = np.argmax(model.predict(x_test_final), axis=-1)"
      ],
      "execution_count": 98,
      "outputs": [
        {
          "output_type": "execute_result",
          "data": {
            "text/plain": [
              "array([0, 0, 0, ..., 0, 0, 0])"
            ]
          },
          "metadata": {
            "tags": []
          },
          "execution_count": 98
        }
      ]
    },
    {
      "cell_type": "code",
      "metadata": {
        "colab": {
          "base_uri": "https://localhost:8080/"
        },
        "id": "ADXZ69qYTIyv",
        "outputId": "520e99db-022b-4591-dfa6-3f93361ccb45"
      },
      "source": [
        "set(y_pred)\n"
      ],
      "execution_count": 99,
      "outputs": [
        {
          "output_type": "execute_result",
          "data": {
            "text/plain": [
              "{0}"
            ]
          },
          "metadata": {
            "tags": []
          },
          "execution_count": 99
        }
      ]
    },
    {
      "cell_type": "code",
      "metadata": {
        "id": "HuCjq-Jvti0U"
      },
      "source": [
        "from sklearn.metrics import confusion_matrix"
      ],
      "execution_count": null,
      "outputs": []
    },
    {
      "cell_type": "code",
      "metadata": {
        "id": "QX-UEQ-Bti4U"
      },
      "source": [
        "confusion_metrix(y_test,y_pred)"
      ],
      "execution_count": null,
      "outputs": []
    },
    {
      "cell_type": "code",
      "metadata": {
        "id": "1aie-bD7ti6S"
      },
      "source": [
        "from sklearn.metrics import accuracy_score \n",
        "accuracy_score(y_test,y_pred)"
      ],
      "execution_count": null,
      "outputs": []
    },
    {
      "cell_type": "code",
      "metadata": {
        "id": "jdptYIr5o2MJ"
      },
      "source": [
        ""
      ],
      "execution_count": null,
      "outputs": []
    }
  ]
}