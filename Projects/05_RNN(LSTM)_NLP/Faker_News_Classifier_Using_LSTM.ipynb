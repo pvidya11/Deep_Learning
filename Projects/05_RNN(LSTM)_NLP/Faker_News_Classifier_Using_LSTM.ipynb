{
  "nbformat": 4,
  "nbformat_minor": 0,
  "metadata": {
    "colab": {
      "name": "Faker_News_Classifier_Using_LSTM.ipynb",
      "provenance": [],
      "authorship_tag": "ABX9TyNkJqwPS1i2H72cK+gDLXkP",
      "include_colab_link": true
    },
    "kernelspec": {
      "name": "python3",
      "display_name": "Python 3"
    },
    "language_info": {
      "name": "python"
    }
  },
  "cells": [
    {
      "cell_type": "markdown",
      "metadata": {
        "id": "view-in-github",
        "colab_type": "text"
      },
      "source": [
        "<a href=\"https://colab.research.google.com/github/pvidya11/Deep_Learning/blob/main/Projects/05_RNN(LSTM)_NLP/Faker_News_Classifier_Using_LSTM.ipynb\" target=\"_parent\"><img src=\"https://colab.research.google.com/assets/colab-badge.svg\" alt=\"Open In Colab\"/></a>"
      ]
    },
    {
      "cell_type": "code",
      "metadata": {
        "id": "ebl9iFXOW7cE"
      },
      "source": [
        ""
      ],
      "execution_count": null,
      "outputs": []
    }
  ]
}