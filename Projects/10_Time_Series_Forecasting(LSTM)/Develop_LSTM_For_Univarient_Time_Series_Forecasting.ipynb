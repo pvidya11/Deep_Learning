{
  "nbformat": 4,
  "nbformat_minor": 0,
  "metadata": {
    "colab": {
      "name": "Develop_LSTM_For_Univarient_Time_Series_Forecasting.ipynb",
      "provenance": [],
      "authorship_tag": "ABX9TyPyPjRaso5ZhZxYokyqEF7V",
      "include_colab_link": true
    },
    "kernelspec": {
      "name": "python3",
      "display_name": "Python 3"
    },
    "language_info": {
      "name": "python"
    }
  },
  "cells": [
    {
      "cell_type": "markdown",
      "metadata": {
        "id": "view-in-github",
        "colab_type": "text"
      },
      "source": [
        "<a href=\"https://colab.research.google.com/github/pvidya11/Deep_Learning/blob/main/Projects/10_Time_Series_Forecasting(LSTM)/Develop_LSTM_For_Univarient_Time_Series_Forecasting.ipynb\" target=\"_parent\"><img src=\"https://colab.research.google.com/assets/colab-badge.svg\" alt=\"Open In Colab\"/></a>"
      ]
    },
    {
      "cell_type": "markdown",
      "metadata": {
        "id": "yhQiFXuiHRc9"
      },
      "source": [
        "<h1><b>Develop_LSTM_For_Univarient_Time_Series_Forecasting</b></h1>"
      ]
    },
    {
      "cell_type": "code",
      "metadata": {
        "id": "KmB69fKfGMbP"
      },
      "source": [
        "# Univarient LSTM example\n",
        "import numpy as np\n",
        "from keras.layers import LSTM, Dense, Flatten\n",
        "from keras.models import Sequential"
      ],
      "execution_count": 1,
      "outputs": []
    },
    {
      "cell_type": "code",
      "metadata": {
        "id": "nNXBEeHoH4mw"
      },
      "source": [
        ""
      ],
      "execution_count": null,
      "outputs": []
    }
  ]
}